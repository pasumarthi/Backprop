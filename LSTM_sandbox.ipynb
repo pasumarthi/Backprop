{
  "nbformat": 4,
  "nbformat_minor": 0,
  "metadata": {
    "colab": {
      "name": "LSTM_sandbox.ipynb",
      "version": "0.3.2",
      "provenance": [],
      "collapsed_sections": [],
      "include_colab_link": true
    },
    "kernelspec": {
      "name": "python3",
      "display_name": "Python 3"
    }
  },
  "cells": [
    {
      "cell_type": "markdown",
      "metadata": {
        "id": "view-in-github",
        "colab_type": "text"
      },
      "source": [
        "<a href=\"https://colab.research.google.com/github/pasumarthi/Backprop/blob/master/LSTM_sandbox.ipynb\" target=\"_parent\"><img src=\"https://colab.research.google.com/assets/colab-badge.svg\" alt=\"Open In Colab\"/></a>"
      ]
    },
    {
      "metadata": {
        "id": "uq8yqgB1ZSfC",
        "colab_type": "text"
      },
      "cell_type": "markdown",
      "source": [
        "We were trying to explore the difference parameters of RNN,GRU and LSTM of keras while trying to solve different kind of NLP problems. As part of this we went n depth for  return_sequence and return state parameters of the LSTM in keras"
      ]
    },
    {
      "metadata": {
        "id": "F_Y5n3kZOVn7",
        "colab_type": "code",
        "outputId": "11373f3f-d56c-4f4f-a573-ba4736dd3e7e",
        "colab": {
          "base_uri": "https://localhost:8080/",
          "height": 34
        }
      },
      "cell_type": "code",
      "source": [
        "from keras.models import Model\n",
        "from keras.layers import Input\n",
        "from keras.layers import LSTM, RNN, GRU\n",
        "from numpy import array\n"
      ],
      "execution_count": 0,
      "outputs": [
        {
          "output_type": "stream",
          "text": [
            "Using TensorFlow backend.\n"
          ],
          "name": "stderr"
        }
      ]
    },
    {
      "metadata": {
        "id": "xq3_mqWhO38I",
        "colab_type": "text"
      },
      "cell_type": "markdown",
      "source": [
        "Running the example outputs a single hidden state for the input sequence with 3 time steps."
      ]
    },
    {
      "metadata": {
        "id": "_9Bp8ibihLem",
        "colab_type": "code",
        "colab": {}
      },
      "cell_type": "code",
      "source": [
        ""
      ],
      "execution_count": 0,
      "outputs": []
    },
    {
      "metadata": {
        "id": "ozJ4dZ7RRFwc",
        "colab_type": "text"
      },
      "cell_type": "markdown",
      "source": [
        "keras.layers.**RNN**(**cell**, **return_sequences**=False, **return_state**=False, go_backwards=False, stateful=False, unroll=False)"
      ]
    },
    {
      "metadata": {
        "id": "58YxcRZtRoej",
        "colab_type": "text"
      },
      "cell_type": "markdown",
      "source": [
        "keras.layers.**GRU**(**units**, **activation**='tanh', **recurrent_activation**='hard_sigmoid', use_bias=True, **kernel_initializer**='glorot_uniform', recurrent_initializer='orthogonal', bias_initializer='zeros', kernel_regularizer=None, recurrent_regularizer=None, bias_regularizer=None, activity_regularizer=None, kernel_constraint=None, recurrent_constraint=None, bias_constraint=None, dropout=0.0, recurrent_dropout=0.0, implementation=1, **return_sequences**=False, **return_state**=False, go_backwards=False, **stateful**=False, unroll=False, reset_after=False)"
      ]
    },
    {
      "metadata": {
        "id": "x3g6i62sR7jz",
        "colab_type": "text"
      },
      "cell_type": "markdown",
      "source": [
        "keras.layers.**LSTM**(**units**, **activation**='tanh', **recurrent_activation**='hard_sigmoid', use_bias=True, **kernel_initializer**='glorot_uniform', **recurrent_initializer**='orthogonal', bias_initializer='zeros', unit_forget_bias=True, kernel_regularizer=None, recurrent_regularizer=None, bias_regularizer=None, activity_regularizer=None, kernel_constraint=None, recurrent_constraint=None, bias_constraint=None, dropout=0.0, recurrent_dropout=0.0, implementation=1, **return_sequences**=False, **return_state**=False, go_backwards=False, **stateful**=False, unroll=False)"
      ]
    },
    {
      "metadata": {
        "id": "9InqmYGZavbB",
        "colab_type": "text"
      },
      "cell_type": "markdown",
      "source": [
        "\n",
        "Arguments:\n",
        "- **units**: Positive integer, dimensionality of the output space.\n",
        "- **activation**: Activation function to use. Default: hyperbolic tangent (tanh). If you pass None, no activation is applied (ie. \"linear\" activation: a(x) = x).\n",
        "- **recurrent_activation**: Activation function to use for the recurrent step. Default: hard sigmoid (hard_sigmoid). If you pass None, no activation is applied (ie. \"linear\" activation: a(x) = x).\n",
        "- **use_bias**: Boolean, whether the layer uses a bias vector.\n",
        "- **kernel_initializer**: Initializer for the kernel weights matrix, used for the linear transformation of the inputs..\n",
        "- **recurrent_initializer**: Initializer for the recurrent_kernel weights matrix, used for the linear transformation of the recurrent state..\n",
        "- **bias_initializer**: Initializer for the bias vector.\n",
        "- **unit_forget_bias**: Boolean. If True, add 1 to the bias of the forget gate at initialization. Setting it to true will also force bias_initializer=\"zeros\". This is recommended in Jozefowicz et al.\n",
        "- **kernel_regularizer**: Regularizer function applied to the kernel weights matrix.\n",
        "- **recurrent_regularizer**: Regularizer function applied to the recurrent_kernel weights matrix.\n",
        "- **bias_regularizer**: Regularizer function applied to the bias vector.\n",
        "- **activity_regularizer**: Regularizer function applied to the output of the layer (its \"activation\")..\n",
        "- **kernel_constraint**: Constraint function applied to the kernel weights matrix.\n",
        "- **recurrent_constraint**: Constraint function applied to the recurrent_kernel weights matrix.\n",
        "- **bias_constraint**: Constraint function applied to the bias vector.\n",
        "- **dropout**: Float between 0 and 1. Fraction of the units to drop for the linear transformation of the inputs.\n",
        "- **recurrent_dropout**: Float between 0 and 1. Fraction of the units to drop for the linear transformation of the recurrent state.\n",
        "- **implementation**: Implementation mode, either 1 or 2. Mode 1 will structure its operations as a larger number of smaller dot products and additions, whereas mode 2 will batch them into fewer, larger operations. These modes will have different performance profiles on different hardware and for different applications.\n",
        "- **return_sequences**: Boolean. Whether to return the last output. in the output sequence, or the full sequence.\n",
        "- **return_state**: Boolean. Whether to return the last state in addition to the output.\n",
        "- **go_backwards**: Boolean (default False). If True, process the input sequence backwards and return the reversed sequence.\n",
        "- **stateful**: Boolean (default False). If True, the last state for each sample at index i in a batch will be used as initial state for the sample of index i in the following batch.\n",
        "- **unroll**: Boolean (default False). If True, the network will be unrolled, else a symbolic loop will be used. Unrolling can speed-up a RNN, although it tends to be more memory-intensive. Unrolling is only suitable for short sequences."
      ]
    },
    {
      "metadata": {
        "id": "isQ-i7qcTYYT",
        "colab_type": "text"
      },
      "cell_type": "markdown",
      "source": [
        ""
      ]
    },
    {
      "metadata": {
        "id": "z90_9iNBOlwF",
        "colab_type": "code",
        "outputId": "0cfd4a4b-9f38-4ce6-fa7f-22121683f149",
        "colab": {
          "base_uri": "https://localhost:8080/",
          "height": 207
        }
      },
      "cell_type": "code",
      "source": [
        "# define model\n",
        "units = 2\n",
        "inputs1 = Input(shape=(2, 3))\n",
        "lstm1 =LSTM(units)(inputs1)\n",
        "lstm2 =LSTM(units, return_sequences=True)(inputs1)\n",
        "lstm3 =LSTM(units, return_state=True)(inputs1)\n",
        "lstm4 =LSTM(units, return_sequences=True, return_state=True)(inputs1)\n",
        "model1 = Model(inputs=inputs1, outputs=lstm1)\n",
        "model2 = Model(inputs=inputs1, outputs=lstm2)\n",
        "model3 = Model(inputs=inputs1, outputs=lstm3)\n",
        "model4 = Model(inputs=inputs1, outputs=lstm4)\n",
        "model4.summary()"
      ],
      "execution_count": 0,
      "outputs": [
        {
          "output_type": "stream",
          "text": [
            "_________________________________________________________________\n",
            "Layer (type)                 Output Shape              Param #   \n",
            "=================================================================\n",
            "input_2 (InputLayer)         (None, 2, 3)              0         \n",
            "_________________________________________________________________\n",
            "lstm_8 (LSTM)                [(None, 2, 2), (None, 2), 48        \n",
            "=================================================================\n",
            "Total params: 48\n",
            "Trainable params: 48\n",
            "Non-trainable params: 0\n",
            "_________________________________________________________________\n"
          ],
          "name": "stdout"
        }
      ]
    },
    {
      "metadata": {
        "id": "dyytVZvPx6en",
        "colab_type": "code",
        "outputId": "47c255de-8ecc-4e64-e777-b7cf6aa2cbb2",
        "colab": {
          "base_uri": "https://localhost:8080/",
          "height": 34
        }
      },
      "cell_type": "code",
      "source": [
        "import numpy as np\n",
        "data = np.array([[[0.1, 0.2, 0.3],[0.1, 0.2, 0.3]],[[0.1, 0.2, 0.3],[0.1, 0.2, 0.3]]])\n",
        "\n",
        "np.shape(data)"
      ],
      "execution_count": 0,
      "outputs": [
        {
          "output_type": "execute_result",
          "data": {
            "text/plain": [
              "(2, 2, 3)"
            ]
          },
          "metadata": {
            "tags": []
          },
          "execution_count": 8
        }
      ]
    },
    {
      "metadata": {
        "id": "VJMvqezZOpFZ",
        "colab_type": "code",
        "colab": {}
      },
      "cell_type": "code",
      "source": [
        "# define input data\n",
        "# (1,2,3) ==> 1 is batch size, 2 is time steps, 3 is embedding dimensions \n",
        "#data = array([[0.1, 0.2, 0.3],[0.1, 0.2, 0.3]]).reshape((1,2,3))\n",
        "data = array([[[0.1, 0.2, 0.3],[0.1, 0.2, 0.3]],[[0.1, 0.2, 0.3],[0.1, 0.2, 0.3]]])\n"
      ],
      "execution_count": 0,
      "outputs": []
    },
    {
      "metadata": {
        "id": "fdJJbnb6OqbS",
        "colab_type": "code",
        "outputId": "dd09bf82-8d0e-4ec5-a690-c955b1ecac9f",
        "colab": {
          "base_uri": "https://localhost:8080/",
          "height": 432
        }
      },
      "cell_type": "code",
      "source": [
        "# make and show prediction\n",
        "import numpy as np\n",
        "print(model1.predict(data))\n",
        "print(\"---------------------\")\n",
        "print(\"one array with three outputs at each time step, dimensions of vector at each time step is equal to number of LSTM units\")\n",
        "print(model2.predict(data))\n",
        "print(\"---------------------\")\n",
        "print(\"three array: one for output at last time step of the LSTM, second for LSTM hidden state, third for LSTM cell state\")\n",
        "print(model3.predict(data))\n",
        "print(\"---------------------\")\n",
        "print(\"three array: one for three time steps of the LSTM, second for LSTM hidden state, third for LSTM cell state\")\n",
        "print(model4.predict(data))"
      ],
      "execution_count": 0,
      "outputs": [
        {
          "output_type": "stream",
          "text": [
            "[[-0.10812485 -0.0625482 ]\n",
            " [-0.10812485 -0.0625482 ]]\n",
            "---------------------\n",
            "one array with three outputs at each time step, dimensions of vector at each time step is equal to number of LSTM units\n",
            "[[[-0.07164414 -0.01564401]\n",
            "  [-0.10678396 -0.03392722]]\n",
            "\n",
            " [[-0.07164414 -0.01564401]\n",
            "  [-0.10678396 -0.03392722]]]\n",
            "---------------------\n",
            "three array: one for output at last time step of the LSTM, second for LSTM hidden state, third for LSTM cell state\n",
            "[array([[-0.01675767, -0.08862032],\n",
            "       [-0.01675767, -0.08862032]], dtype=float32), array([[-0.01675767, -0.08862032],\n",
            "       [-0.01675767, -0.08862032]], dtype=float32), array([[-0.03257203, -0.15509903],\n",
            "       [-0.03257203, -0.15509903]], dtype=float32)]\n",
            "---------------------\n",
            "three array: one for three time steps of the LSTM, second for LSTM hidden state, third for LSTM cell state\n",
            "[array([[[-0.04197845, -0.02224817],\n",
            "        [-0.06234686, -0.04087799]],\n",
            "\n",
            "       [[-0.04197845, -0.02224817],\n",
            "        [-0.06234686, -0.04087799]]], dtype=float32), array([[-0.06234686, -0.04087799],\n",
            "       [-0.06234686, -0.04087799]], dtype=float32), array([[-0.11952709, -0.08527634],\n",
            "       [-0.11952709, -0.08527634]], dtype=float32)]\n"
          ],
          "name": "stdout"
        }
      ]
    },
    {
      "metadata": {
        "id": "RJVueQpky6_8",
        "colab_type": "text"
      },
      "cell_type": "markdown",
      "source": [
        "- **return_sequences**: Boolean. Whether to return the last output in the output sequence, or the full sequence.\n",
        "- **return_state**: Boolean. Whether to return the last state in addition to the output.\n",
        "\n",
        "- **return_sequences**, if True gives the  outputs(y(t)) for all the time steps of the LSTM. If False, gives out only the last time step ouput(y(Ty))\n",
        "- **return_state**, if True will gives the last time step hidden state(h(Ty)) and cell state(c[Ty]). If False, does not give out any hidden state or cell state."
      ]
    },
    {
      "metadata": {
        "id": "ocVOWc68ySaO",
        "colab_type": "text"
      },
      "cell_type": "markdown",
      "source": [
        "The layer returns the hidden state for each input time step, then separately, the hidden state output for the last time step and the cell state for the last input time step."
      ]
    },
    {
      "metadata": {
        "id": "FZvpatxqu5s1",
        "colab_type": "code",
        "outputId": "0fc99540-446c-4bb7-bffd-a2723bc2c0c0",
        "colab": {
          "base_uri": "https://localhost:8080/",
          "height": 279
        }
      },
      "cell_type": "code",
      "source": [
        "from keras.models import Model\n",
        "from keras.layers import Input\n",
        "from keras.layers import LSTM\n",
        "from numpy import array\n",
        "# define model\n",
        "inputs1 = Input(shape=(3, 1))\n",
        "lstm1, state_h, state_c = LSTM(3, return_sequences=True, return_state=True)(inputs1)\n",
        "model = Model(inputs=inputs1, outputs=[lstm1, state_h, state_c])\n",
        "model.summary()\n",
        "# define input data\n",
        "data = array([0.1, 0.2, 0.3]).reshape((1,3,1))\n",
        "# make and show prediction\n",
        "print(model.predict(data))"
      ],
      "execution_count": 0,
      "outputs": [
        {
          "output_type": "stream",
          "text": [
            "_________________________________________________________________\n",
            "Layer (type)                 Output Shape              Param #   \n",
            "=================================================================\n",
            "input_3 (InputLayer)         (None, 3, 1)              0         \n",
            "_________________________________________________________________\n",
            "lstm_9 (LSTM)                [(None, 3, 3), (None, 3), 60        \n",
            "=================================================================\n",
            "Total params: 60\n",
            "Trainable params: 60\n",
            "Non-trainable params: 0\n",
            "_________________________________________________________________\n",
            "[array([[[ 0.00860806, -0.01716868, -0.00297233],\n",
            "        [ 0.02101759, -0.04590944, -0.00927064],\n",
            "        [ 0.03448991, -0.08250197, -0.01914189]]], dtype=float32), array([[ 0.03448991, -0.08250197, -0.01914189]], dtype=float32), array([[ 0.0676542 , -0.16215442, -0.03605146]], dtype=float32)]\n"
          ],
          "name": "stdout"
        }
      ]
    },
    {
      "metadata": {
        "id": "qFRq18B75ecE",
        "colab_type": "text"
      },
      "cell_type": "markdown",
      "source": [
        "![alt text](https://i.stack.imgur.com/EFU1S.png)\n",
        "\n"
      ]
    },
    {
      "metadata": {
        "id": "Mp8HzQd95wgT",
        "colab_type": "text"
      },
      "cell_type": "markdown",
      "source": [
        "- GRU has only one hidden state, where both cell state(h) and hidden state(h) merged at the output. This unit is designed to remember longterm dependencied. It is done with the help of update gate, whose weight matrix and biase are updated to learn parameters that makes update active or inactive depending on whether to remember or forget the cell state at every time step "
      ]
    },
    {
      "metadata": {
        "id": "Jw7FP-tr6oFt",
        "colab_type": "text"
      },
      "cell_type": "markdown",
      "source": [
        "In the code below we have, we have there conditions:\n",
        "\n",
        "\n",
        "1.   Both return_sequence and return_state set to False, in this case only the ouput of the last state will be predicted.\n",
        "2.   return_sequences is True, return_state is False, in this case all the ouputs of every time step will be predicted. We are not using hidden states here.\n",
        "3. Both return_sequence and return_state set to True, in this case it predicts outputs of all times steps and uses the hidden states of last time step. This is especially useful in the case of seq2seq models where hidden states of encoder are used as initial states(h0,c0) of decoder.\n",
        "\n"
      ]
    },
    {
      "metadata": {
        "id": "ZscFyeC68upS",
        "colab_type": "text"
      },
      "cell_type": "markdown",
      "source": [
        "GRU returns one hidden state when return_state is set to True. LSTM returns two states, one hidden state and secod cell state."
      ]
    },
    {
      "metadata": {
        "id": "JHsImRNVwm5u",
        "colab_type": "code",
        "outputId": "b68778f4-0de3-4716-c6d6-71c37ec64c28",
        "colab": {
          "base_uri": "https://localhost:8080/",
          "height": 207
        }
      },
      "cell_type": "code",
      "source": [
        "# define model\n",
        "units =2\n",
        "inputs1 = Input(shape=(3, 1))\n",
        "lstm1 = GRU(units)(inputs1)\n",
        "lstm2 = GRU(units, return_sequences=True)(inputs1)\n",
        "lstm3 = GRU(units, return_state=True)(inputs1)\n",
        "lstm4 = GRU(units, return_sequences=True, return_state=True)(inputs1)\n",
        "model1 = Model(inputs=inputs1, outputs=lstm1)\n",
        "model2 = Model(inputs=inputs1, outputs=lstm2)\n",
        "model3 = Model(inputs=inputs1, outputs=lstm3)\n",
        "model4 = Model(inputs=inputs1, outputs=lstm4)\n",
        "model1.summary()"
      ],
      "execution_count": 0,
      "outputs": [
        {
          "output_type": "stream",
          "text": [
            "_________________________________________________________________\n",
            "Layer (type)                 Output Shape              Param #   \n",
            "=================================================================\n",
            "input_4 (InputLayer)         (None, 3, 1)              0         \n",
            "_________________________________________________________________\n",
            "gru_1 (GRU)                  (None, 2)                 24        \n",
            "=================================================================\n",
            "Total params: 24\n",
            "Trainable params: 24\n",
            "Non-trainable params: 0\n",
            "_________________________________________________________________\n"
          ],
          "name": "stdout"
        }
      ]
    },
    {
      "metadata": {
        "id": "o0D6muGNLDWG",
        "colab_type": "code",
        "colab": {}
      },
      "cell_type": "code",
      "source": [
        "# define input data\n",
        "data = array([0.1, 0.2, 0.3]).reshape((1,3,1))\n"
      ],
      "execution_count": 0,
      "outputs": []
    },
    {
      "metadata": {
        "id": "c7fkmwZALGBa",
        "colab_type": "code",
        "outputId": "df2a9359-d2ea-473f-cda8-1937ef0821b7",
        "colab": {
          "base_uri": "https://localhost:8080/",
          "height": 259
        }
      },
      "cell_type": "code",
      "source": [
        "# make and show prediction\n",
        "import numpy as np\n",
        "print(model1.predict(data))\n",
        "print(\"---------------------\")\n",
        "print(\"one array with three outputs at each time step, dimensions of vector at each time step is equal to number of GRU units\")\n",
        "print(model2.predict(data))\n",
        "print(\"---------------------\")\n",
        "print(\"three array: one for output at last time step of the GRU, second for GRU hidden state\")\n",
        "print(model3.predict(data))\n",
        "print(\"---------------------\")\n",
        "print(\"three array: one for three time steps of the GRU, second for GRU hidden state\")\n",
        "print(model4.predict(data))"
      ],
      "execution_count": 0,
      "outputs": [
        {
          "output_type": "stream",
          "text": [
            "[[-0.08354472  0.05676868]]\n",
            "---------------------\n",
            "one array with three outputs at each time step, dimensions of vector at each time step is equal to number of GRU units\n",
            "[[[0.04046844 0.04123129]\n",
            "  [0.10405504 0.09681208]\n",
            "  [0.17859468 0.15561596]]]\n",
            "---------------------\n",
            "three array: one for output at last time step of the GRU, second for GRU hidden state\n",
            "[array([[ 0.02740779, -0.0357492 ]], dtype=float32), array([[ 0.02740779, -0.0357492 ]], dtype=float32)]\n",
            "---------------------\n",
            "three array: one for three time steps of the GRU, second for GRU hidden state\n",
            "[array([[[-0.00953052,  0.01972705],\n",
            "        [-0.02074487,  0.04894556],\n",
            "        [-0.03113053,  0.08277699]]], dtype=float32), array([[-0.03113053,  0.08277699]], dtype=float32)]\n"
          ],
          "name": "stdout"
        }
      ]
    },
    {
      "metadata": {
        "id": "7i65nG2NZ3bo",
        "colab_type": "code",
        "colab": {}
      },
      "cell_type": "code",
      "source": [
        ""
      ],
      "execution_count": 0,
      "outputs": []
    }
  ]
}