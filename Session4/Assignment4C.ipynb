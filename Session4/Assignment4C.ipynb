{
  "nbformat": 4,
  "nbformat_minor": 0,
  "metadata": {
    "colab": {
      "name": "Assignment4C.ipynb",
      "version": "0.3.2",
      "provenance": [],
      "collapsed_sections": [],
      "include_colab_link": true
    },
    "kernelspec": {
      "name": "python3",
      "display_name": "Python 3"
    },
    "accelerator": "GPU"
  },
  "cells": [
    {
      "cell_type": "markdown",
      "metadata": {
        "id": "view-in-github",
        "colab_type": "text"
      },
      "source": [
        "<a href=\"https://colab.research.google.com/github/pasumarthi/Backprop/blob/master/Session4/Assignment4C.ipynb\" target=\"_parent\"><img src=\"https://colab.research.google.com/assets/colab-badge.svg\" alt=\"Open In Colab\"/></a>"
      ]
    },
    {
      "cell_type": "markdown",
      "metadata": {
        "id": "aNyZv-Ec52ot",
        "colab_type": "text"
      },
      "source": [
        "# **Import Libraries and modules**"
      ]
    },
    {
      "cell_type": "markdown",
      "metadata": {
        "id": "LvUDk0so4hCU",
        "colab_type": "text"
      },
      "source": [
        "MaxPooling,Dropout 1*1,Batch Normalization"
      ]
    },
    {
      "cell_type": "code",
      "metadata": {
        "id": "3m3w1Cw49Zkt",
        "colab_type": "code",
        "colab": {}
      },
      "source": [
        "# https://keras.io/\n",
        "!pip install -q keras\n",
        "import keras"
      ],
      "execution_count": 0,
      "outputs": []
    },
    {
      "cell_type": "code",
      "metadata": {
        "id": "Eso6UHE080D4",
        "colab_type": "code",
        "colab": {}
      },
      "source": [
        "import numpy as np\n",
        "\n",
        "from keras.models import Sequential\n",
        "from keras.layers import Dense, Dropout, Activation, Flatten, Add,BatchNormalization\n",
        "from keras.layers import Conv2D, MaxPooling2D,Convolution2D\n",
        "from keras.utils import np_utils\n",
        "\n",
        "from keras.datasets import mnist"
      ],
      "execution_count": 0,
      "outputs": []
    },
    {
      "cell_type": "markdown",
      "metadata": {
        "id": "zByEi95J86RD",
        "colab_type": "text"
      },
      "source": [
        "### Load pre-shuffled MNIST data into train and test sets"
      ]
    },
    {
      "cell_type": "code",
      "metadata": {
        "id": "7eRM0QWN83PV",
        "colab_type": "code",
        "colab": {}
      },
      "source": [
        "(X_train, y_train), (X_test, y_test) = mnist.load_data()"
      ],
      "execution_count": 0,
      "outputs": []
    },
    {
      "cell_type": "code",
      "metadata": {
        "id": "4a4Be72j8-ZC",
        "colab_type": "code",
        "outputId": "7ed85f40-a06c-434e-abd9-24ab91847ca7",
        "colab": {
          "base_uri": "https://localhost:8080/",
          "height": 302
        }
      },
      "source": [
        "print (X_train.shape)\n",
        "from matplotlib import pyplot as plt\n",
        "%matplotlib inline\n",
        "plt.imshow(X_train[0])"
      ],
      "execution_count": 0,
      "outputs": [
        {
          "output_type": "stream",
          "text": [
            "(60000, 28, 28)\n"
          ],
          "name": "stdout"
        },
        {
          "output_type": "execute_result",
          "data": {
            "text/plain": [
              "<matplotlib.image.AxesImage at 0x7f01a0260f28>"
            ]
          },
          "metadata": {
            "tags": []
          },
          "execution_count": 14
        },
        {
          "output_type": "display_data",
          "data": {
            "image/png": "[encoded data removed]",
            "text/plain": [
              "<Figure size 432x288 with 1 Axes>"
            ]
          },
          "metadata": {
            "tags": []
          }
        }
      ]
    },
    {
      "cell_type": "code",
      "metadata": {
        "id": "dkmprriw9AnZ",
        "colab_type": "code",
        "colab": {}
      },
      "source": [
        "X_train = X_train.reshape(X_train.shape[0], 28, 28,1)\n",
        "X_test = X_test.reshape(X_test.shape[0], 28, 28,1)"
      ],
      "execution_count": 0,
      "outputs": []
    },
    {
      "cell_type": "code",
      "metadata": {
        "id": "X2m4YS4E9CRh",
        "colab_type": "code",
        "colab": {}
      },
      "source": [
        "X_train = X_train.astype('float32')\n",
        "X_test = X_test.astype('float32')\n",
        "X_train /= 255\n",
        "X_test /= 255"
      ],
      "execution_count": 0,
      "outputs": []
    },
    {
      "cell_type": "code",
      "metadata": {
        "id": "0Mn0vAYD9DvB",
        "colab_type": "code",
        "outputId": "5f09e80e-d949-4da2-f4eb-ae438bf76288",
        "colab": {
          "base_uri": "https://localhost:8080/",
          "height": 34
        }
      },
      "source": [
        "y_train[:10]"
      ],
      "execution_count": 0,
      "outputs": [
        {
          "output_type": "execute_result",
          "data": {
            "text/plain": [
              "array([5, 0, 4, 1, 9, 2, 1, 3, 1, 4], dtype=uint8)"
            ]
          },
          "metadata": {
            "tags": []
          },
          "execution_count": 17
        }
      ]
    },
    {
      "cell_type": "code",
      "metadata": {
        "id": "ZG8JiXR39FHC",
        "colab_type": "code",
        "colab": {}
      },
      "source": [
        "# Convert 1-dimensional class arrays to 10-dimensional class matrices\n",
        "Y_train = np_utils.to_categorical(y_train, 10)\n",
        "Y_test = np_utils.to_categorical(y_test, 10)"
      ],
      "execution_count": 0,
      "outputs": []
    },
    {
      "cell_type": "code",
      "metadata": {
        "id": "fYlFRvKS9HMB",
        "colab_type": "code",
        "outputId": "9641cc45-0cb6-4d91-cad0-f9c2db1306e6",
        "colab": {
          "base_uri": "https://localhost:8080/",
          "height": 185
        }
      },
      "source": [
        "Y_train[:10]\n"
      ],
      "execution_count": 0,
      "outputs": [
        {
          "output_type": "execute_result",
          "data": {
            "text/plain": [
              "array([[0., 0., 0., 0., 0., 1., 0., 0., 0., 0.],\n",
              "       [1., 0., 0., 0., 0., 0., 0., 0., 0., 0.],\n",
              "       [0., 0., 0., 0., 1., 0., 0., 0., 0., 0.],\n",
              "       [0., 1., 0., 0., 0., 0., 0., 0., 0., 0.],\n",
              "       [0., 0., 0., 0., 0., 0., 0., 0., 0., 1.],\n",
              "       [0., 0., 1., 0., 0., 0., 0., 0., 0., 0.],\n",
              "       [0., 1., 0., 0., 0., 0., 0., 0., 0., 0.],\n",
              "       [0., 0., 0., 1., 0., 0., 0., 0., 0., 0.],\n",
              "       [0., 1., 0., 0., 0., 0., 0., 0., 0., 0.],\n",
              "       [0., 0., 0., 0., 1., 0., 0., 0., 0., 0.]], dtype=float32)"
            ]
          },
          "metadata": {
            "tags": []
          },
          "execution_count": 19
        }
      ]
    },
    {
      "cell_type": "code",
      "metadata": {
        "id": "CSbEJIsE7gB-",
        "colab_type": "code",
        "outputId": "3481a9df-1787-4258-f155-bdbc46e46131",
        "colab": {
          "base_uri": "https://localhost:8080/",
          "height": 874
        }
      },
      "source": [
        "from keras.layers import Activation\n",
        "model = Sequential()\n",
        "\n",
        " \n",
        "model.add(Conv2D(8,(3, 3), activation='relu', input_shape=(28,28,1))) #26\n",
        "model.add(BatchNormalization())\n",
        "model.add(Dropout(0.10))\n",
        "\n",
        "model.add(Conv2D(16,(3, 3), activation='relu')) #24\n",
        "model.add(BatchNormalization())\n",
        "model.add(Dropout(0.10))\n",
        "\n",
        "model.add(Conv2D(32,(3, 3), activation='relu')) #22\n",
        "model.add(BatchNormalization())\n",
        "model.add(Dropout(0.10))\n",
        "\n",
        "\n",
        "model.add(MaxPooling2D(pool_size=(2, 2))) #11\n",
        "model.add(Conv2D(8,(1, 1), activation='relu'))#11   \n",
        "\n",
        "model.add(Conv2D(16,(3,3), activation='relu')) #9\n",
        "model.add(BatchNormalization())\n",
        "model.add(Dropout(0.10))\n",
        "\n",
        "model.add(Conv2D(32, (3, 3), activation='relu')) #7\n",
        "#model.add(BatchNormalization())\n",
        "#model.add(Dropout(0.10))\n",
        "\n",
        "model.add(MaxPooling2D(pool_size=(2, 2)))#4\n",
        "model.add(Conv2D(8,(1, 1), activation='relu'))#5\n",
        "\n",
        "\n",
        "model.add(Conv2D(10,(3,3)))\n",
        "model.add(Flatten())\n",
        "model.add(Activation('softmax'))\n",
        "\n",
        "model.summary()"
      ],
      "execution_count": 0,
      "outputs": [
        {
          "output_type": "stream",
          "text": [
            "_________________________________________________________________\n",
            "Layer (type)                 Output Shape              Param #   \n",
            "=================================================================\n",
            "conv2d_9 (Conv2D)            (None, 26, 26, 8)         80        \n",
            "_________________________________________________________________\n",
            "batch_normalization_4 (Batch (None, 26, 26, 8)         32        \n",
            "_________________________________________________________________\n",
            "dropout_3 (Dropout)          (None, 26, 26, 8)         0         \n",
            "_________________________________________________________________\n",
            "conv2d_10 (Conv2D)           (None, 24, 24, 16)        1168      \n",
            "_________________________________________________________________\n",
            "batch_normalization_5 (Batch (None, 24, 24, 16)        64        \n",
            "_________________________________________________________________\n",
            "dropout_4 (Dropout)          (None, 24, 24, 16)        0         \n",
            "_________________________________________________________________\n",
            "conv2d_11 (Conv2D)           (None, 22, 22, 32)        4640      \n",
            "_________________________________________________________________\n",
            "batch_normalization_6 (Batch (None, 22, 22, 32)        128       \n",
            "_________________________________________________________________\n",
            "dropout_5 (Dropout)          (None, 22, 22, 32)        0         \n",
            "_________________________________________________________________\n",
            "max_pooling2d_3 (MaxPooling2 (None, 11, 11, 32)        0         \n",
            "_________________________________________________________________\n",
            "conv2d_12 (Conv2D)           (None, 11, 11, 8)         264       \n",
            "_________________________________________________________________\n",
            "conv2d_13 (Conv2D)           (None, 9, 9, 16)          1168      \n",
            "_________________________________________________________________\n",
            "batch_normalization_7 (Batch (None, 9, 9, 16)          64        \n",
            "_________________________________________________________________\n",
            "dropout_6 (Dropout)          (None, 9, 9, 16)          0         \n",
            "_________________________________________________________________\n",
            "conv2d_14 (Conv2D)           (None, 7, 7, 32)          4640      \n",
            "_________________________________________________________________\n",
            "batch_normalization_8 (Batch (None, 7, 7, 32)          128       \n",
            "_________________________________________________________________\n",
            "dropout_7 (Dropout)          (None, 7, 7, 32)          0         \n",
            "_________________________________________________________________\n",
            "max_pooling2d_4 (MaxPooling2 (None, 3, 3, 32)          0         \n",
            "_________________________________________________________________\n",
            "conv2d_15 (Conv2D)           (None, 3, 3, 8)           264       \n",
            "_________________________________________________________________\n",
            "conv2d_16 (Conv2D)           (None, 1, 1, 10)          730       \n",
            "_________________________________________________________________\n",
            "flatten_2 (Flatten)          (None, 10)                0         \n",
            "_________________________________________________________________\n",
            "activation_2 (Activation)    (None, 10)                0         \n",
            "=================================================================\n",
            "Total params: 13,370\n",
            "Trainable params: 13,162\n",
            "Non-trainable params: 208\n",
            "_________________________________________________________________\n"
          ],
          "name": "stdout"
        }
      ]
    },
    {
      "cell_type": "code",
      "metadata": {
        "id": "Zp6SuGrL9M3h",
        "colab_type": "code",
        "colab": {}
      },
      "source": [
        "model.compile(loss='categorical_crossentropy',\n",
        "             optimizer='adam',\n",
        "             metrics=['accuracy'])"
      ],
      "execution_count": 0,
      "outputs": []
    },
    {
      "cell_type": "code",
      "metadata": {
        "id": "4xWoKhPY9Of5",
        "colab_type": "code",
        "outputId": "8f88d6a9-c10b-46ab-e666-c1bf7e2065f6",
        "colab": {
          "base_uri": "https://localhost:8080/",
          "height": 826
        }
      },
      "source": [
        "model.fit(X_train, Y_train, batch_size=128, nb_epoch=20, verbose=1,validation_split=0.1)\n",
        "#model.fit(X_train, Y_train,batch_size=128,nb_epoch=50,verbose=1,validation_split=0.1)"
      ],
      "execution_count": 0,
      "outputs": [
        {
          "output_type": "stream",
          "text": [
            "WARNING:tensorflow:From /usr/local/lib/python3.6/dist-packages/tensorflow/python/ops/math_ops.py:3066: to_int32 (from tensorflow.python.ops.math_ops) is deprecated and will be removed in a future version.\n",
            "Instructions for updating:\n",
            "Use tf.cast instead.\n"
          ],
          "name": "stdout"
        },
        {
          "output_type": "stream",
          "text": [
            "/usr/local/lib/python3.6/dist-packages/ipykernel_launcher.py:1: UserWarning: The `nb_epoch` argument in `fit` has been renamed `epochs`.\n",
            "  \"\"\"Entry point for launching an IPython kernel.\n"
          ],
          "name": "stderr"
        },
        {
          "output_type": "stream",
          "text": [
            "Train on 54000 samples, validate on 6000 samples\n",
            "Epoch 1/20\n",
            "54000/54000 [==============================] - 8s 153us/step - loss: 0.4316 - acc: 0.8648 - val_loss: 0.1066 - val_acc: 0.9695\n",
            "Epoch 2/20\n",
            "54000/54000 [==============================] - 5s 99us/step - loss: 0.1126 - acc: 0.9650 - val_loss: 0.0713 - val_acc: 0.9795\n",
            "Epoch 3/20\n",
            "54000/54000 [==============================] - 5s 100us/step - loss: 0.0806 - acc: 0.9750 - val_loss: 0.0587 - val_acc: 0.9817\n",
            "Epoch 4/20\n",
            "54000/54000 [==============================] - 5s 99us/step - loss: 0.0650 - acc: 0.9795 - val_loss: 0.0468 - val_acc: 0.9862\n",
            "Epoch 5/20\n",
            "54000/54000 [==============================] - 5s 98us/step - loss: 0.0557 - acc: 0.9831 - val_loss: 0.0487 - val_acc: 0.9862\n",
            "Epoch 6/20\n",
            "54000/54000 [==============================] - 5s 98us/step - loss: 0.0498 - acc: 0.9842 - val_loss: 0.0434 - val_acc: 0.9872\n",
            "Epoch 7/20\n",
            "54000/54000 [==============================] - 5s 98us/step - loss: 0.0457 - acc: 0.9853 - val_loss: 0.0354 - val_acc: 0.9893\n",
            "Epoch 8/20\n",
            "54000/54000 [==============================] - 5s 98us/step - loss: 0.0415 - acc: 0.9869 - val_loss: 0.0474 - val_acc: 0.9870\n",
            "Epoch 9/20\n",
            "54000/54000 [==============================] - 5s 98us/step - loss: 0.0398 - acc: 0.9872 - val_loss: 0.0371 - val_acc: 0.9888\n",
            "Epoch 10/20\n",
            "54000/54000 [==============================] - 5s 98us/step - loss: 0.0387 - acc: 0.9874 - val_loss: 0.0389 - val_acc: 0.9873\n",
            "Epoch 11/20\n",
            "54000/54000 [==============================] - 5s 98us/step - loss: 0.0345 - acc: 0.9886 - val_loss: 0.0388 - val_acc: 0.9880\n",
            "Epoch 12/20\n",
            "54000/54000 [==============================] - 5s 98us/step - loss: 0.0341 - acc: 0.9889 - val_loss: 0.0319 - val_acc: 0.9912\n",
            "Epoch 13/20\n",
            "54000/54000 [==============================] - 5s 98us/step - loss: 0.0329 - acc: 0.9892 - val_loss: 0.0292 - val_acc: 0.9910\n",
            "Epoch 14/20\n",
            "54000/54000 [==============================] - 6s 103us/step - loss: 0.0302 - acc: 0.9899 - val_loss: 0.0315 - val_acc: 0.9910\n",
            "Epoch 15/20\n",
            "54000/54000 [==============================] - 6s 107us/step - loss: 0.0283 - acc: 0.9911 - val_loss: 0.0372 - val_acc: 0.9893\n",
            "Epoch 16/20\n",
            "54000/54000 [==============================] - 5s 101us/step - loss: 0.0276 - acc: 0.9906 - val_loss: 0.0341 - val_acc: 0.9903\n",
            "Epoch 17/20\n",
            "54000/54000 [==============================] - 5s 98us/step - loss: 0.0272 - acc: 0.9911 - val_loss: 0.0319 - val_acc: 0.9903\n",
            "Epoch 18/20\n",
            "54000/54000 [==============================] - 5s 98us/step - loss: 0.0278 - acc: 0.9908 - val_loss: 0.0286 - val_acc: 0.9912\n",
            "Epoch 19/20\n",
            "54000/54000 [==============================] - 5s 98us/step - loss: 0.0254 - acc: 0.9914 - val_loss: 0.0330 - val_acc: 0.9913\n",
            "Epoch 20/20\n",
            "54000/54000 [==============================] - 5s 98us/step - loss: 0.0233 - acc: 0.9923 - val_loss: 0.0298 - val_acc: 0.9913\n"
          ],
          "name": "stdout"
        },
        {
          "output_type": "execute_result",
          "data": {
            "text/plain": [
              "<keras.callbacks.History at 0x7f0181b4e898>"
            ]
          },
          "metadata": {
            "tags": []
          },
          "execution_count": 22
        }
      ]
    },
    {
      "cell_type": "code",
      "metadata": {
        "id": "AtsH-lLk-eLb",
        "colab_type": "code",
        "outputId": "fbc90e66-c75b-4cd0-f3e2-74bd38340ce2",
        "colab": {
          "base_uri": "https://localhost:8080/",
          "height": 34
        }
      },
      "source": [
        "score = model.evaluate(X_test, Y_test, verbose=1)"
      ],
      "execution_count": 0,
      "outputs": [
        {
          "output_type": "stream",
          "text": [
            "10000/10000 [==============================] - 1s 69us/step\n"
          ],
          "name": "stdout"
        }
      ]
    },
    {
      "cell_type": "code",
      "metadata": {
        "id": "mkX8JMv79q9r",
        "colab_type": "code",
        "outputId": "97395578-8f3c-4305-a2a6-bdccc628de03",
        "colab": {
          "base_uri": "https://localhost:8080/",
          "height": 34
        }
      },
      "source": [
        "print(score)"
      ],
      "execution_count": 0,
      "outputs": [
        {
          "output_type": "stream",
          "text": [
            "[0.027972464834776473, 0.9906]\n"
          ],
          "name": "stdout"
        }
      ]
    },
    {
      "cell_type": "code",
      "metadata": {
        "id": "OCWoJkwE9suh",
        "colab_type": "code",
        "colab": {}
      },
      "source": [
        "y_pred = model.predict(X_test)"
      ],
      "execution_count": 0,
      "outputs": []
    },
    {
      "cell_type": "code",
      "metadata": {
        "id": "Ym7iCFBm9uBs",
        "colab_type": "code",
        "outputId": "4976ceca-8303-47df-c05b-7e8b6c9a960b",
        "colab": {
          "base_uri": "https://localhost:8080/",
          "height": 487
        }
      },
      "source": [
        "print(y_pred[:9])\n",
        "print(y_test[:9])"
      ],
      "execution_count": 0,
      "outputs": [
        {
          "output_type": "stream",
          "text": [
            "[[4.71270113e-07 2.81996847e-07 1.32512068e-05 5.41492273e-06\n",
            "  8.34605984e-09 2.22812730e-07 4.43395581e-12 9.99632359e-01\n",
            "  1.78845733e-06 3.46214307e-04]\n",
            " [8.42581755e-07 4.60234378e-06 9.99971747e-01 5.82390885e-06\n",
            "  4.69524464e-09 3.27377947e-09 3.28946362e-06 8.85603811e-07\n",
            "  1.27728208e-05 2.45515518e-11]\n",
            " [7.36462243e-06 9.99350846e-01 1.62707816e-04 2.92302005e-08\n",
            "  1.00406607e-04 3.15345414e-06 2.68447293e-05 3.04835150e-04\n",
            "  4.30090113e-05 7.86317401e-07]\n",
            " [9.98795629e-01 1.51251256e-09 1.71205772e-06 9.75418715e-08\n",
            "  5.17721446e-06 7.53473515e-08 1.09980523e-03 8.91033736e-08\n",
            "  7.16547038e-06 9.02655011e-05]\n",
            " [2.23365961e-11 1.71134995e-10 4.28208979e-09 9.12664180e-11\n",
            "  9.99934077e-01 6.91941365e-11 3.70684899e-10 3.40867473e-10\n",
            "  1.62734590e-08 6.58922218e-05]\n",
            " [1.25684221e-06 9.99345243e-01 1.30764238e-04 6.37073905e-09\n",
            "  1.45293103e-04 2.63216634e-07 1.55833618e-06 3.60259815e-04\n",
            "  1.49216785e-05 3.23724350e-07]\n",
            " [3.56137841e-10 3.29113377e-08 6.31078024e-07 4.02669759e-10\n",
            "  9.98682559e-01 7.80863729e-08 2.12398960e-10 3.86911324e-07\n",
            "  5.05479584e-05 1.26566435e-03]\n",
            " [1.78333460e-06 1.45318992e-07 1.14934101e-05 3.18889252e-05\n",
            "  1.69661408e-03 6.99168231e-05 6.35298932e-07 5.38817076e-05\n",
            "  2.89916989e-05 9.98104572e-01]\n",
            " [2.13750263e-05 8.02467870e-09 1.03192622e-06 2.58314049e-06\n",
            "  2.07726387e-07 6.99746192e-01 2.55446374e-01 1.74813920e-07\n",
            "  4.46720198e-02 1.09992747e-04]]\n",
            "[7 2 1 0 4 1 4 9 5]\n"
          ],
          "name": "stdout"
        }
      ]
    },
    {
      "cell_type": "code",
      "metadata": {
        "id": "CT--y98_dr2T",
        "colab_type": "code",
        "colab": {}
      },
      "source": [
        "layer_dict = dict([(layer.name, layer) for layer in model.layers])"
      ],
      "execution_count": 0,
      "outputs": []
    },
    {
      "cell_type": "code",
      "metadata": {
        "id": "2GY4Upv4dsUR",
        "colab_type": "code",
        "outputId": "0cb2d460-69fa-4a8c-c592-56151f4efc9b",
        "colab": {
          "base_uri": "https://localhost:8080/",
          "height": 741
        }
      },
      "source": [
        "import numpy as np\n",
        "from matplotlib import pyplot as plt\n",
        "from keras import backend as K\n",
        "%matplotlib inline\n",
        "# util function to convert a tensor into a valid image\n",
        "def deprocess_image(x):\n",
        "    # normalize tensor: center on 0., ensure std is 0.1\n",
        "    x -= x.mean()\n",
        "    x /= (x.std() + 1e-5)\n",
        "    x *= 0.1\n",
        "\n",
        "    # clip to [0, 1]\n",
        "    x += 0.5\n",
        "    x = np.clip(x, 0, 1)\n",
        "\n",
        "    # convert to RGB array\n",
        "    x *= 255\n",
        "    #x = x.transpose((1, 2, 0))\n",
        "    x = np.clip(x, 0, 255).astype('uint8')\n",
        "    return x\n",
        "\n",
        "def vis_img_in_filter(img = np.array(X_train[2]).reshape((1, 28, 28, 1)).astype(np.float64), \n",
        "                      layer_name = 'conv2d_26'):\n",
        "    layer_output = layer_dict[layer_name].output\n",
        "    img_ascs = list()\n",
        "    for filter_index in range(layer_output.shape[3]):\n",
        "        # build a loss function that maximizes the activation\n",
        "        # of the nth filter of the layer considered\n",
        "        loss = K.mean(layer_output[:, :, :, filter_index])\n",
        "\n",
        "        # compute the gradient of the input picture wrt this loss\n",
        "        grads = K.gradients(loss, model.input)[0]\n",
        "\n",
        "        # normalization trick: we normalize the gradient\n",
        "        grads /= (K.sqrt(K.mean(K.square(grads))) + 1e-5)\n",
        "\n",
        "        # this function returns the loss and grads given the input picture\n",
        "        iterate = K.function([model.input], [loss, grads])\n",
        "\n",
        "        # step size for gradient ascent\n",
        "        step = 5.\n",
        "\n",
        "        img_asc = np.array(img)\n",
        "        # run gradient ascent for 20 steps\n",
        "        for i in range(20):\n",
        "            loss_value, grads_value = iterate([img_asc])\n",
        "            img_asc += grads_value * step\n",
        "\n",
        "        img_asc = img_asc[0]\n",
        "        img_ascs.append(deprocess_image(img_asc).reshape((28, 28)))\n",
        "        \n",
        "    if layer_output.shape[3] >= 35:\n",
        "        plot_x, plot_y = 6, 6\n",
        "    elif layer_output.shape[3] >= 23:\n",
        "        plot_x, plot_y = 4, 6\n",
        "    elif layer_output.shape[3] >= 11:\n",
        "        plot_x, plot_y = 2, 6\n",
        "    else:\n",
        "        plot_x, plot_y = 1, 2\n",
        "    fig, ax = plt.subplots(plot_x, plot_y, figsize = (12, 12))\n",
        "    ax[0, 0].imshow(img.reshape((28, 28)), cmap = 'gray')\n",
        "    ax[0, 0].set_title('Input image')\n",
        "    fig.suptitle('Input image and %s filters' % (layer_name,))\n",
        "    fig.tight_layout(pad = 0.3, rect = [0, 0, 0.9, 0.9])\n",
        "    for (x, y) in [(i, j) for i in range(plot_x) for j in range(plot_y)]:\n",
        "        if x == 0 and y == 0:\n",
        "            continue\n",
        "        ax[x, y].imshow(img_ascs[x * plot_y + y - 1], cmap = 'gray')\n",
        "        ax[x, y].set_title('filter %d' % (x * plot_y + y - 1))\n",
        "\n",
        "vis_img_in_filter()"
      ],
      "execution_count": 0,
      "outputs": [
        {
          "output_type": "display_data",
          "data": {
            "image/png": "[encoded data removed]",
            "text/plain": [
              "<Figure size 864x864 with 12 Axes>"
            ]
          },
          "metadata": {
            "tags": []
          }
        }
      ]
    },
    {
      "cell_type": "code",
      "metadata": {
        "id": "9tvptcn8dxvp",
        "colab_type": "code",
        "colab": {}
      },
      "source": [
        ""
      ],
      "execution_count": 0,
      "outputs": []
    }
  ]
}