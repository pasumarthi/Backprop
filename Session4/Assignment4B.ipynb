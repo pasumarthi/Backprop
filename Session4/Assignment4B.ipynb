{
  "nbformat": 4,
  "nbformat_minor": 0,
  "metadata": {
    "colab": {
      "name": "Assignment4B.ipynb",
      "version": "0.3.2",
      "provenance": [],
      "collapsed_sections": [],
      "include_colab_link": true
    },
    "kernelspec": {
      "name": "python3",
      "display_name": "Python 3"
    },
    "accelerator": "GPU"
  },
  "cells": [
    {
      "cell_type": "markdown",
      "metadata": {
        "id": "view-in-github",
        "colab_type": "text"
      },
      "source": [
        "<a href=\"https://colab.research.google.com/github/pasumarthi/Backprop/blob/master/Session4/Assignment4B.ipynb\" target=\"_parent\"><img src=\"https://colab.research.google.com/assets/colab-badge.svg\" alt=\"Open In Colab\"/></a>"
      ]
    },
    {
      "cell_type": "markdown",
      "metadata": {
        "id": "aNyZv-Ec52ot",
        "colab_type": "text"
      },
      "source": [
        "# **Import Libraries and modules**"
      ]
    },
    {
      "cell_type": "markdown",
      "metadata": {
        "id": "LvUDk0so4hCU",
        "colab_type": "text"
      },
      "source": [
        "\n",
        "\n",
        "```\n",
        "# This is formatted as code\n",
        "\n",
        "```\n",
        "\n",
        "Reduce parameters ,MaxPooling,Dropout 1*1\n",
        "\n",
        "Added Dropout to reduce difference training and test data accuracyTried . And also increase training accuracy"
      ]
    },
    {
      "cell_type": "code",
      "metadata": {
        "id": "3m3w1Cw49Zkt",
        "colab_type": "code",
        "outputId": "21344131-918a-47c6-f604-dd2d716db433",
        "colab": {
          "base_uri": "https://localhost:8080/",
          "height": 34
        }
      },
      "source": [
        "# https://keras.io/\n",
        "!pip install -q keras\n",
        "import keras"
      ],
      "execution_count": 0,
      "outputs": [
        {
          "output_type": "stream",
          "text": [
            "Using TensorFlow backend.\n"
          ],
          "name": "stderr"
        }
      ]
    },
    {
      "cell_type": "code",
      "metadata": {
        "id": "Eso6UHE080D4",
        "colab_type": "code",
        "colab": {}
      },
      "source": [
        "import numpy as np\n",
        "\n",
        "from keras.models import Sequential\n",
        "from keras.layers import Dense, Dropout, Activation, Flatten, Add,BatchNormalization\n",
        "from keras.layers import Conv2D, MaxPooling2D,Convolution2D\n",
        "from keras.utils import np_utils\n",
        "\n",
        "from keras.datasets import mnist"
      ],
      "execution_count": 0,
      "outputs": []
    },
    {
      "cell_type": "markdown",
      "metadata": {
        "id": "zByEi95J86RD",
        "colab_type": "text"
      },
      "source": [
        "### Load pre-shuffled MNIST data into train and test sets"
      ]
    },
    {
      "cell_type": "code",
      "metadata": {
        "id": "7eRM0QWN83PV",
        "colab_type": "code",
        "colab": {}
      },
      "source": [
        "(X_train, y_train), (X_test, y_test) = mnist.load_data()"
      ],
      "execution_count": 0,
      "outputs": []
    },
    {
      "cell_type": "code",
      "metadata": {
        "id": "4a4Be72j8-ZC",
        "colab_type": "code",
        "outputId": "4dc44457-b9d7-4b01-9009-7a9be5aa9260",
        "colab": {
          "base_uri": "https://localhost:8080/",
          "height": 302
        }
      },
      "source": [
        "print (X_train.shape)\n",
        "from matplotlib import pyplot as plt\n",
        "%matplotlib inline\n",
        "plt.imshow(X_train[0])"
      ],
      "execution_count": 0,
      "outputs": [
        {
          "output_type": "stream",
          "text": [
            "(60000, 28, 28)\n"
          ],
          "name": "stdout"
        },
        {
          "output_type": "execute_result",
          "data": {
            "text/plain": [
              "<matplotlib.image.AxesImage at 0x7f5838464c18>"
            ]
          },
          "metadata": {
            "tags": []
          },
          "execution_count": 4
        },
        {
          "output_type": "display_data",
          "data": {
            "image/png": "[encoded data removed]",
            "text/plain": [
              "<Figure size 432x288 with 1 Axes>"
            ]
          },
          "metadata": {
            "tags": []
          }
        }
      ]
    },
    {
      "cell_type": "code",
      "metadata": {
        "id": "dkmprriw9AnZ",
        "colab_type": "code",
        "colab": {}
      },
      "source": [
        "X_train = X_train.reshape(X_train.shape[0], 28, 28,1)\n",
        "X_test = X_test.reshape(X_test.shape[0], 28, 28,1)"
      ],
      "execution_count": 0,
      "outputs": []
    },
    {
      "cell_type": "code",
      "metadata": {
        "id": "X2m4YS4E9CRh",
        "colab_type": "code",
        "colab": {}
      },
      "source": [
        "X_train = X_train.astype('float32')\n",
        "X_test = X_test.astype('float32')\n",
        "X_train /= 255\n",
        "X_test /= 255"
      ],
      "execution_count": 0,
      "outputs": []
    },
    {
      "cell_type": "code",
      "metadata": {
        "id": "0Mn0vAYD9DvB",
        "colab_type": "code",
        "outputId": "546d60fb-8929-4bb7-df82-383d0363feaf",
        "colab": {
          "base_uri": "https://localhost:8080/",
          "height": 34
        }
      },
      "source": [
        "y_train[:10]"
      ],
      "execution_count": 0,
      "outputs": [
        {
          "output_type": "execute_result",
          "data": {
            "text/plain": [
              "array([5, 0, 4, 1, 9, 2, 1, 3, 1, 4], dtype=uint8)"
            ]
          },
          "metadata": {
            "tags": []
          },
          "execution_count": 7
        }
      ]
    },
    {
      "cell_type": "code",
      "metadata": {
        "id": "ZG8JiXR39FHC",
        "colab_type": "code",
        "colab": {}
      },
      "source": [
        "# Convert 1-dimensional class arrays to 10-dimensional class matrices\n",
        "Y_train = np_utils.to_categorical(y_train, 10)\n",
        "Y_test = np_utils.to_categorical(y_test, 10)"
      ],
      "execution_count": 0,
      "outputs": []
    },
    {
      "cell_type": "code",
      "metadata": {
        "id": "fYlFRvKS9HMB",
        "colab_type": "code",
        "outputId": "00ee5c48-335a-488a-90bf-c1da5e42a93f",
        "colab": {
          "base_uri": "https://localhost:8080/",
          "height": 185
        }
      },
      "source": [
        "Y_train[:10]\n"
      ],
      "execution_count": 0,
      "outputs": [
        {
          "output_type": "execute_result",
          "data": {
            "text/plain": [
              "array([[0., 0., 0., 0., 0., 1., 0., 0., 0., 0.],\n",
              "       [1., 0., 0., 0., 0., 0., 0., 0., 0., 0.],\n",
              "       [0., 0., 0., 0., 1., 0., 0., 0., 0., 0.],\n",
              "       [0., 1., 0., 0., 0., 0., 0., 0., 0., 0.],\n",
              "       [0., 0., 0., 0., 0., 0., 0., 0., 0., 1.],\n",
              "       [0., 0., 1., 0., 0., 0., 0., 0., 0., 0.],\n",
              "       [0., 1., 0., 0., 0., 0., 0., 0., 0., 0.],\n",
              "       [0., 0., 0., 1., 0., 0., 0., 0., 0., 0.],\n",
              "       [0., 1., 0., 0., 0., 0., 0., 0., 0., 0.],\n",
              "       [0., 0., 0., 0., 1., 0., 0., 0., 0., 0.]], dtype=float32)"
            ]
          },
          "metadata": {
            "tags": []
          },
          "execution_count": 9
        }
      ]
    },
    {
      "cell_type": "code",
      "metadata": {
        "id": "kon6h2QLomTC",
        "colab_type": "code",
        "outputId": "376ea110-6bae-4341-98d1-84b046b22b59",
        "colab": {
          "base_uri": "https://localhost:8080/",
          "height": 605
        }
      },
      "source": [
        "from keras.layers import Activation\n",
        "model = Sequential()\n",
        "\n",
        " \n",
        "model.add(Conv2D(8,(3, 3), activation='relu', input_shape=(28,28,1))) #26\n",
        "model.add(Conv2D(16,(3, 3), activation='relu')) #24\n",
        "model.add(Conv2D(32,(3, 3), activation='relu')) #22\n",
        "model.add(Dropout(0.10))\n",
        "\n",
        "\n",
        "model.add(MaxPooling2D(pool_size=(2, 2))) #11\n",
        "model.add(Conv2D(8,(1, 1), activation='relu'))#11   \n",
        "\n",
        "model.add(Conv2D(16,(3,3), activation='relu')) #9\n",
        "model.add(Conv2D(32, (3, 3), activation='relu')) #7\n",
        "\n",
        "model.add(Dropout(0.10))\n",
        "model.add(MaxPooling2D(pool_size=(2, 2)))#4\n",
        "model.add(Conv2D(8,(1, 1), activation='relu'))#5\n",
        "\n",
        "#model.add(Conv2D(32,(3,3), activation='relu')) #3\n",
        "\n",
        "#model.add(Dropout(0.10))\n",
        "model.add(Conv2D(10,(3,3)))\n",
        "model.add(Flatten())\n",
        "model.add(Activation('softmax'))\n",
        "\n",
        "model.summary()"
      ],
      "execution_count": 0,
      "outputs": [
        {
          "output_type": "stream",
          "text": [
            "_________________________________________________________________\n",
            "Layer (type)                 Output Shape              Param #   \n",
            "=================================================================\n",
            "conv2d_10 (Conv2D)           (None, 26, 26, 8)         80        \n",
            "_________________________________________________________________\n",
            "conv2d_11 (Conv2D)           (None, 24, 24, 16)        1168      \n",
            "_________________________________________________________________\n",
            "conv2d_12 (Conv2D)           (None, 22, 22, 32)        4640      \n",
            "_________________________________________________________________\n",
            "dropout_3 (Dropout)          (None, 22, 22, 32)        0         \n",
            "_________________________________________________________________\n",
            "max_pooling2d_3 (MaxPooling2 (None, 11, 11, 32)        0         \n",
            "_________________________________________________________________\n",
            "conv2d_13 (Conv2D)           (None, 11, 11, 8)         264       \n",
            "_________________________________________________________________\n",
            "conv2d_14 (Conv2D)           (None, 9, 9, 16)          1168      \n",
            "_________________________________________________________________\n",
            "conv2d_15 (Conv2D)           (None, 7, 7, 32)          4640      \n",
            "_________________________________________________________________\n",
            "dropout_4 (Dropout)          (None, 7, 7, 32)          0         \n",
            "_________________________________________________________________\n",
            "max_pooling2d_4 (MaxPooling2 (None, 3, 3, 32)          0         \n",
            "_________________________________________________________________\n",
            "conv2d_16 (Conv2D)           (None, 3, 3, 8)           264       \n",
            "_________________________________________________________________\n",
            "conv2d_17 (Conv2D)           (None, 1, 1, 10)          730       \n",
            "_________________________________________________________________\n",
            "flatten_1 (Flatten)          (None, 10)                0         \n",
            "_________________________________________________________________\n",
            "activation_1 (Activation)    (None, 10)                0         \n",
            "=================================================================\n",
            "Total params: 12,954\n",
            "Trainable params: 12,954\n",
            "Non-trainable params: 0\n",
            "_________________________________________________________________\n"
          ],
          "name": "stdout"
        }
      ]
    },
    {
      "cell_type": "code",
      "metadata": {
        "id": "Zp6SuGrL9M3h",
        "colab_type": "code",
        "colab": {}
      },
      "source": [
        "model.compile(loss='categorical_crossentropy',\n",
        "             optimizer='adam',\n",
        "             metrics=['accuracy'])"
      ],
      "execution_count": 0,
      "outputs": []
    },
    {
      "cell_type": "code",
      "metadata": {
        "id": "4xWoKhPY9Of5",
        "colab_type": "code",
        "outputId": "029cd1f1-10e3-43bb-a889-65e6518c00d5",
        "colab": {
          "base_uri": "https://localhost:8080/",
          "height": 826
        }
      },
      "source": [
        "model.fit(X_train, Y_train, batch_size=128, nb_epoch=20, verbose=1,validation_split=0.1)\n",
        "#model.fit(X_train, Y_train,batch_size=128,nb_epoch=50,verbose=1,validation_split=0.1)"
      ],
      "execution_count": 0,
      "outputs": [
        {
          "output_type": "stream",
          "text": [
            "WARNING:tensorflow:From /usr/local/lib/python3.6/dist-packages/tensorflow/python/ops/math_ops.py:3066: to_int32 (from tensorflow.python.ops.math_ops) is deprecated and will be removed in a future version.\n",
            "Instructions for updating:\n",
            "Use tf.cast instead.\n"
          ],
          "name": "stdout"
        },
        {
          "output_type": "stream",
          "text": [
            "/usr/local/lib/python3.6/dist-packages/ipykernel_launcher.py:1: UserWarning: The `nb_epoch` argument in `fit` has been renamed `epochs`.\n",
            "  \"\"\"Entry point for launching an IPython kernel.\n"
          ],
          "name": "stderr"
        },
        {
          "output_type": "stream",
          "text": [
            "Train on 54000 samples, validate on 6000 samples\n",
            "Epoch 1/20\n",
            "54000/54000 [==============================] - 6s 113us/step - loss: 0.5021 - acc: 0.8310 - val_loss: 0.1502 - val_acc: 0.9578\n",
            "Epoch 2/20\n",
            "54000/54000 [==============================] - 3s 63us/step - loss: 0.1421 - acc: 0.9557 - val_loss: 0.1044 - val_acc: 0.9710\n",
            "Epoch 3/20\n",
            "54000/54000 [==============================] - 3s 64us/step - loss: 0.1043 - acc: 0.9676 - val_loss: 0.0809 - val_acc: 0.9788\n",
            "Epoch 4/20\n",
            "54000/54000 [==============================] - 3s 63us/step - loss: 0.0850 - acc: 0.9740 - val_loss: 0.0768 - val_acc: 0.9772\n",
            "Epoch 5/20\n",
            "54000/54000 [==============================] - 3s 63us/step - loss: 0.0747 - acc: 0.9769 - val_loss: 0.0636 - val_acc: 0.9825\n",
            "Epoch 6/20\n",
            "54000/54000 [==============================] - 3s 63us/step - loss: 0.0670 - acc: 0.9799 - val_loss: 0.0629 - val_acc: 0.9830\n",
            "Epoch 7/20\n",
            "54000/54000 [==============================] - 3s 63us/step - loss: 0.0589 - acc: 0.9817 - val_loss: 0.0525 - val_acc: 0.9855\n",
            "Epoch 8/20\n",
            "54000/54000 [==============================] - 3s 63us/step - loss: 0.0541 - acc: 0.9834 - val_loss: 0.0485 - val_acc: 0.9870\n",
            "Epoch 9/20\n",
            "54000/54000 [==============================] - 3s 63us/step - loss: 0.0507 - acc: 0.9843 - val_loss: 0.0498 - val_acc: 0.9857\n",
            "Epoch 10/20\n",
            "54000/54000 [==============================] - 3s 63us/step - loss: 0.0449 - acc: 0.9861 - val_loss: 0.0431 - val_acc: 0.9873\n",
            "Epoch 11/20\n",
            "54000/54000 [==============================] - 3s 63us/step - loss: 0.0435 - acc: 0.9863 - val_loss: 0.0491 - val_acc: 0.9857\n",
            "Epoch 12/20\n",
            "54000/54000 [==============================] - 3s 63us/step - loss: 0.0402 - acc: 0.9876 - val_loss: 0.0435 - val_acc: 0.9865\n",
            "Epoch 13/20\n",
            "54000/54000 [==============================] - 3s 64us/step - loss: 0.0360 - acc: 0.9890 - val_loss: 0.0399 - val_acc: 0.9885\n",
            "Epoch 14/20\n",
            "54000/54000 [==============================] - 3s 63us/step - loss: 0.0346 - acc: 0.9887 - val_loss: 0.0365 - val_acc: 0.9887\n",
            "Epoch 15/20\n",
            "54000/54000 [==============================] - 3s 63us/step - loss: 0.0335 - acc: 0.9891 - val_loss: 0.0496 - val_acc: 0.9843\n",
            "Epoch 16/20\n",
            "54000/54000 [==============================] - 3s 63us/step - loss: 0.0299 - acc: 0.9906 - val_loss: 0.0513 - val_acc: 0.9853\n",
            "Epoch 17/20\n",
            "54000/54000 [==============================] - 4s 65us/step - loss: 0.0308 - acc: 0.9899 - val_loss: 0.0392 - val_acc: 0.9890\n",
            "Epoch 18/20\n",
            "54000/54000 [==============================] - 4s 68us/step - loss: 0.0263 - acc: 0.9915 - val_loss: 0.0348 - val_acc: 0.9905\n",
            "Epoch 19/20\n",
            "54000/54000 [==============================] - 4s 68us/step - loss: 0.0269 - acc: 0.9912 - val_loss: 0.0431 - val_acc: 0.9867\n",
            "Epoch 20/20\n",
            "54000/54000 [==============================] - 3s 64us/step - loss: 0.0256 - acc: 0.9920 - val_loss: 0.0410 - val_acc: 0.9885\n"
          ],
          "name": "stdout"
        },
        {
          "output_type": "execute_result",
          "data": {
            "text/plain": [
              "<keras.callbacks.History at 0x7f5834c6e940>"
            ]
          },
          "metadata": {
            "tags": []
          },
          "execution_count": 13
        }
      ]
    },
    {
      "cell_type": "code",
      "metadata": {
        "id": "AtsH-lLk-eLb",
        "colab_type": "code",
        "colab": {}
      },
      "source": [
        "score = model.evaluate(X_test, Y_test, verbose=0)"
      ],
      "execution_count": 0,
      "outputs": []
    },
    {
      "cell_type": "code",
      "metadata": {
        "id": "mkX8JMv79q9r",
        "colab_type": "code",
        "outputId": "68f631a3-32f6-4179-9ffa-a5f50995bbc1",
        "colab": {
          "base_uri": "https://localhost:8080/",
          "height": 34
        }
      },
      "source": [
        "print(score)"
      ],
      "execution_count": 0,
      "outputs": [
        {
          "output_type": "stream",
          "text": [
            "[0.030269168970547617, 0.99]\n"
          ],
          "name": "stdout"
        }
      ]
    },
    {
      "cell_type": "code",
      "metadata": {
        "id": "OCWoJkwE9suh",
        "colab_type": "code",
        "colab": {}
      },
      "source": [
        "y_pred = model.predict(X_test)"
      ],
      "execution_count": 0,
      "outputs": []
    },
    {
      "cell_type": "code",
      "metadata": {
        "id": "Ym7iCFBm9uBs",
        "colab_type": "code",
        "outputId": "2b1d4ce9-f9c1-4398-8780-60602ab18592",
        "colab": {
          "base_uri": "https://localhost:8080/",
          "height": 336
        }
      },
      "source": [
        "print(y_pred[:9])\n",
        "print(y_test[:9])"
      ],
      "execution_count": 0,
      "outputs": [
        {
          "output_type": "stream",
          "text": [
            "[[2.1876291e-07 2.9881260e-08 1.0907111e-05 2.3678896e-05 1.3233376e-12\n",
            "  1.4347957e-07 6.7933965e-15 9.9995828e-01 1.5109617e-08 6.7717842e-06]\n",
            " [4.8871684e-06 3.6784643e-04 9.9962580e-01 3.3987460e-09 1.6981005e-07\n",
            "  5.4394605e-10 1.2025849e-06 6.7083946e-08 2.3061865e-08 5.6691565e-11]\n",
            " [6.8668180e-07 9.8955500e-01 6.4495856e-05 5.3294499e-08 9.9187205e-03\n",
            "  6.3213265e-06 3.0406981e-04 9.2699978e-05 1.7316828e-05 4.0618725e-05]\n",
            " [9.9991488e-01 3.1343571e-08 9.8540768e-06 2.1161359e-09 1.7712919e-08\n",
            "  2.6560551e-07 6.3628322e-05 6.1657848e-09 6.7878324e-07 1.0665084e-05]\n",
            " [7.4659307e-12 6.3906406e-08 2.9821330e-12 1.6266177e-15 9.9999547e-01\n",
            "  4.5674063e-14 3.9871800e-08 2.9173962e-11 1.4987488e-10 4.4209551e-06]\n",
            " [7.1622901e-07 9.9891281e-01 7.6080207e-05 4.1953214e-09 8.7109138e-04\n",
            "  3.3853175e-07 5.0591640e-05 4.5737001e-05 5.9584145e-06 3.6663405e-05]\n",
            " [2.8476551e-13 2.7460302e-07 5.0723183e-11 4.0196787e-12 9.9977821e-01\n",
            "  3.9926257e-10 1.4282135e-10 1.6212326e-10 1.8068722e-05 2.0343778e-04]\n",
            " [3.6347008e-09 1.6074936e-06 4.9510098e-09 4.9740066e-07 9.9449456e-03\n",
            "  1.3209853e-07 5.5450051e-13 2.9131579e-06 1.8892607e-06 9.9004793e-01]\n",
            " [5.4681882e-06 9.1498866e-12 3.0390584e-08 3.6631484e-08 1.4700516e-09\n",
            "  3.8498676e-01 5.3209704e-01 4.8623171e-11 8.2903802e-02 6.8977656e-06]]\n",
            "[7 2 1 0 4 1 4 9 5]\n"
          ],
          "name": "stdout"
        }
      ]
    },
    {
      "cell_type": "code",
      "metadata": {
        "id": "CT--y98_dr2T",
        "colab_type": "code",
        "colab": {}
      },
      "source": [
        "layer_dict = dict([(layer.name, layer) for layer in model.layers])"
      ],
      "execution_count": 0,
      "outputs": []
    },
    {
      "cell_type": "code",
      "metadata": {
        "id": "2GY4Upv4dsUR",
        "colab_type": "code",
        "outputId": "a97b6d5a-cc7e-49ef-bb1e-b62c8b3b87bf",
        "colab": {
          "base_uri": "https://localhost:8080/",
          "height": 741
        }
      },
      "source": [
        "import numpy as np\n",
        "from matplotlib import pyplot as plt\n",
        "from keras import backend as K\n",
        "%matplotlib inline\n",
        "# util function to convert a tensor into a valid image\n",
        "def deprocess_image(x):\n",
        "    # normalize tensor: center on 0., ensure std is 0.1\n",
        "    x -= x.mean()\n",
        "    x /= (x.std() + 1e-5)\n",
        "    x *= 0.1\n",
        "\n",
        "    # clip to [0, 1]\n",
        "    x += 0.5\n",
        "    x = np.clip(x, 0, 1)\n",
        "\n",
        "    # convert to RGB array\n",
        "    x *= 255\n",
        "    #x = x.transpose((1, 2, 0))\n",
        "    x = np.clip(x, 0, 255).astype('uint8')\n",
        "    return x\n",
        "\n",
        "def vis_img_in_filter(img = np.array(X_train[2]).reshape((1, 28, 28, 1)).astype(np.float64), \n",
        "                      layer_name = 'conv2d_11'):\n",
        "    layer_output = layer_dict[layer_name].output\n",
        "    img_ascs = list()\n",
        "    for filter_index in range(layer_output.shape[3]):\n",
        "        # build a loss function that maximizes the activation\n",
        "        # of the nth filter of the layer considered\n",
        "        loss = K.mean(layer_output[:, :, :, filter_index])\n",
        "\n",
        "        # compute the gradient of the input picture wrt this loss\n",
        "        grads = K.gradients(loss, model.input)[0]\n",
        "\n",
        "        # normalization trick: we normalize the gradient\n",
        "        grads /= (K.sqrt(K.mean(K.square(grads))) + 1e-5)\n",
        "\n",
        "        # this function returns the loss and grads given the input picture\n",
        "        iterate = K.function([model.input], [loss, grads])\n",
        "\n",
        "        # step size for gradient ascent\n",
        "        step = 5.\n",
        "\n",
        "        img_asc = np.array(img)\n",
        "        # run gradient ascent for 20 steps\n",
        "        for i in range(20):\n",
        "            loss_value, grads_value = iterate([img_asc])\n",
        "            img_asc += grads_value * step\n",
        "\n",
        "        img_asc = img_asc[0]\n",
        "        img_ascs.append(deprocess_image(img_asc).reshape((28, 28)))\n",
        "        \n",
        "    if layer_output.shape[3] >= 35:\n",
        "        plot_x, plot_y = 6, 6\n",
        "    elif layer_output.shape[3] >= 23:\n",
        "        plot_x, plot_y = 4, 6\n",
        "    elif layer_output.shape[3] >= 11:\n",
        "        plot_x, plot_y = 2, 6\n",
        "    else:\n",
        "        plot_x, plot_y = 1, 2\n",
        "    fig, ax = plt.subplots(plot_x, plot_y, figsize = (12, 12))\n",
        "    ax[0, 0].imshow(img.reshape((28, 28)), cmap = 'gray')\n",
        "    ax[0, 0].set_title('Input image')\n",
        "    fig.suptitle('Input image and %s filters' % (layer_name,))\n",
        "    fig.tight_layout(pad = 0.3, rect = [0, 0, 0.9, 0.9])\n",
        "    for (x, y) in [(i, j) for i in range(plot_x) for j in range(plot_y)]:\n",
        "        if x == 0 and y == 0:\n",
        "            continue\n",
        "        ax[x, y].imshow(img_ascs[x * plot_y + y - 1], cmap = 'gray')\n",
        "        ax[x, y].set_title('filter %d' % (x * plot_y + y - 1))\n",
        "\n",
        "vis_img_in_filter()"
      ],
      "execution_count": 0,
      "outputs": [
        {
          "output_type": "display_data",
          "data": {
            "image/png": "[encoded data removed]",
            "text/plain": [
              "<Figure size 864x864 with 12 Axes>"
            ]
          },
          "metadata": {
            "tags": []
          }
        }
      ]
    },
    {
      "cell_type": "code",
      "metadata": {
        "id": "9tvptcn8dxvp",
        "colab_type": "code",
        "colab": {}
      },
      "source": [
        ""
      ],
      "execution_count": 0,
      "outputs": []
    }
  ]
}