{
  "nbformat": 4,
  "nbformat_minor": 0,
  "metadata": {
    "colab": {
      "name": "Assignment4_5.ipynb",
      "version": "0.3.2",
      "provenance": [],
      "collapsed_sections": [],
      "include_colab_link": true
    },
    "kernelspec": {
      "name": "python3",
      "display_name": "Python 3"
    },
    "accelerator": "GPU"
  },
  "cells": [
    {
      "cell_type": "markdown",
      "metadata": {
        "id": "view-in-github",
        "colab_type": "text"
      },
      "source": [
        "<a href=\"https://colab.research.google.com/github/pasumarthi/Backprop/blob/master/Session4/Assignment4D.ipynb\" target=\"_parent\"><img src=\"https://colab.research.google.com/assets/colab-badge.svg\" alt=\"Open In Colab\"/></a>"
      ]
    },
    {
      "cell_type": "markdown",
      "metadata": {
        "id": "aNyZv-Ec52ot",
        "colab_type": "text"
      },
      "source": [
        "# **Import Libraries and modules**"
      ]
    },
    {
      "cell_type": "markdown",
      "metadata": {
        "id": "LvUDk0so4hCU",
        "colab_type": "text"
      },
      "source": [
        "MaxPooling,Dropout 1*1,Batch Normalization,ModelCheckpoint Learning rate"
      ]
    },
    {
      "cell_type": "code",
      "metadata": {
        "id": "3m3w1Cw49Zkt",
        "colab_type": "code",
        "colab": {}
      },
      "source": [
        "# https://keras.io/\n",
        "#!pip install -q keras\n",
        "import keras"
      ],
      "execution_count": 0,
      "outputs": []
    },
    {
      "cell_type": "code",
      "metadata": {
        "id": "Eso6UHE080D4",
        "colab_type": "code",
        "colab": {}
      },
      "source": [
        "import numpy as np\n",
        "\n",
        "from keras.models import Sequential\n",
        "from keras.layers import Dense, Dropout, Activation, Flatten, Add,BatchNormalization\n",
        "from keras.layers import Conv2D, MaxPooling2D,Convolution2D\n",
        "from keras.utils import np_utils\n",
        "\n",
        "from keras.callbacks import EarlyStopping\n",
        "\n",
        "from keras.datasets import mnist"
      ],
      "execution_count": 0,
      "outputs": []
    },
    {
      "cell_type": "markdown",
      "metadata": {
        "id": "zByEi95J86RD",
        "colab_type": "text"
      },
      "source": [
        "### Load pre-shuffled MNIST data into train and test sets"
      ]
    },
    {
      "cell_type": "code",
      "metadata": {
        "id": "7eRM0QWN83PV",
        "colab_type": "code",
        "colab": {}
      },
      "source": [
        "(X_train, y_train), (X_test, y_test) = mnist.load_data()"
      ],
      "execution_count": 0,
      "outputs": []
    },
    {
      "cell_type": "code",
      "metadata": {
        "id": "4a4Be72j8-ZC",
        "colab_type": "code",
        "outputId": "b2843d42-8bc9-4d0f-863b-60df758b21f1",
        "colab": {
          "base_uri": "https://localhost:8080/",
          "height": 302
        }
      },
      "source": [
        "print (X_train.shape)\n",
        "from matplotlib import pyplot as plt\n",
        "%matplotlib inline\n",
        "plt.imshow(X_train[1])"
      ],
      "execution_count": 0,
      "outputs": [
        {
          "output_type": "stream",
          "text": [
            "(60000, 28, 28)\n"
          ],
          "name": "stdout"
        },
        {
          "output_type": "execute_result",
          "data": {
            "text/plain": [
              "<matplotlib.image.AxesImage at 0x7f1e19201a58>"
            ]
          },
          "metadata": {
            "tags": []
          },
          "execution_count": 55
        },
        {
          "output_type": "display_data",
          "data": {
            "image/png": "[encoded data removed]",
            "text/plain": [
              "<Figure size 432x288 with 1 Axes>"
            ]
          },
          "metadata": {
            "tags": []
          }
        }
      ]
    },
    {
      "cell_type": "code",
      "metadata": {
        "id": "dkmprriw9AnZ",
        "colab_type": "code",
        "colab": {}
      },
      "source": [
        "X_train = X_train.reshape(X_train.shape[0], 28, 28,1)\n",
        "X_test = X_test.reshape(X_test.shape[0], 28, 28,1)"
      ],
      "execution_count": 0,
      "outputs": []
    },
    {
      "cell_type": "code",
      "metadata": {
        "id": "X2m4YS4E9CRh",
        "colab_type": "code",
        "colab": {}
      },
      "source": [
        "X_train = X_train.astype('float32')\n",
        "X_test = X_test.astype('float32')\n",
        "X_train /= 255\n",
        "X_test /= 255"
      ],
      "execution_count": 0,
      "outputs": []
    },
    {
      "cell_type": "code",
      "metadata": {
        "id": "0Mn0vAYD9DvB",
        "colab_type": "code",
        "outputId": "c8126644-e353-41ca-a244-7052cc07431c",
        "colab": {
          "base_uri": "https://localhost:8080/",
          "height": 34
        }
      },
      "source": [
        "y_train[:10]"
      ],
      "execution_count": 0,
      "outputs": [
        {
          "output_type": "execute_result",
          "data": {
            "text/plain": [
              "array([5, 0, 4, 1, 9, 2, 1, 3, 1, 4], dtype=uint8)"
            ]
          },
          "metadata": {
            "tags": []
          },
          "execution_count": 58
        }
      ]
    },
    {
      "cell_type": "code",
      "metadata": {
        "id": "ZG8JiXR39FHC",
        "colab_type": "code",
        "colab": {}
      },
      "source": [
        "# Convert 1-dimensional class arrays to 10-dimensional class matrices\n",
        "Y_train = np_utils.to_categorical(y_train, 10)\n",
        "Y_test = np_utils.to_categorical(y_test, 10)"
      ],
      "execution_count": 0,
      "outputs": []
    },
    {
      "cell_type": "code",
      "metadata": {
        "id": "fYlFRvKS9HMB",
        "colab_type": "code",
        "outputId": "6eae947f-79b1-4400-e5b5-17c410ac7a04",
        "colab": {
          "base_uri": "https://localhost:8080/",
          "height": 185
        }
      },
      "source": [
        "Y_train[:10]\n"
      ],
      "execution_count": 0,
      "outputs": [
        {
          "output_type": "execute_result",
          "data": {
            "text/plain": [
              "array([[0., 0., 0., 0., 0., 1., 0., 0., 0., 0.],\n",
              "       [1., 0., 0., 0., 0., 0., 0., 0., 0., 0.],\n",
              "       [0., 0., 0., 0., 1., 0., 0., 0., 0., 0.],\n",
              "       [0., 1., 0., 0., 0., 0., 0., 0., 0., 0.],\n",
              "       [0., 0., 0., 0., 0., 0., 0., 0., 0., 1.],\n",
              "       [0., 0., 1., 0., 0., 0., 0., 0., 0., 0.],\n",
              "       [0., 1., 0., 0., 0., 0., 0., 0., 0., 0.],\n",
              "       [0., 0., 0., 1., 0., 0., 0., 0., 0., 0.],\n",
              "       [0., 1., 0., 0., 0., 0., 0., 0., 0., 0.],\n",
              "       [0., 0., 0., 0., 1., 0., 0., 0., 0., 0.]], dtype=float32)"
            ]
          },
          "metadata": {
            "tags": []
          },
          "execution_count": 60
        }
      ]
    },
    {
      "cell_type": "code",
      "metadata": {
        "id": "8Jg8hVqvzYuj",
        "colab_type": "code",
        "outputId": "2761db23-c845-4eb3-e04d-e5e4305b65f9",
        "colab": {
          "base_uri": "https://localhost:8080/",
          "height": 672
        }
      },
      "source": [
        "from keras.layers import Activation\n",
        "model = Sequential()\n",
        "\n",
        " \n",
        "model.add(Conv2D(8,(3, 3), activation='relu', input_shape=(28,28,1))) #26\n",
        "model.add(Conv2D(16,(3, 3), activation='relu')) #24\n",
        "\n",
        "\n",
        "model.add(BatchNormalization())\n",
        "model.add(Dropout(0.05))\n",
        "model.add(MaxPooling2D(pool_size=(2, 2)))#12\n",
        "#model.add(Conv2D(8,(1, 1), activation='relu'))#12  \n",
        "\n",
        "\n",
        "model.add(Conv2D(16,(3,3), activation='relu')) #10\n",
        "model.add(BatchNormalization())\n",
        "model.add(Dropout(0.1))\n",
        "model.add(Conv2D(16, (3, 3), activation='relu')) #8\n",
        "\n",
        "\n",
        "model.add(BatchNormalization())\n",
        "model.add(Dropout(0.2))\n",
        "model.add(MaxPooling2D(pool_size=(2, 2)))#4\n",
        "#model.add(Conv2D(8,(1, 1), activation='relu'))#4\n",
        "\n",
        "\n",
        "model.add(Conv2D(16,(3,3), activation='relu')) #2\n",
        "model.add(Conv2D(10,(2,2)))\n",
        "model.add(Flatten())\n",
        "model.add(Activation('softmax'))\n",
        "\n",
        "model.summary()"
      ],
      "execution_count": 0,
      "outputs": [
        {
          "output_type": "stream",
          "text": [
            "_________________________________________________________________\n",
            "Layer (type)                 Output Shape              Param #   \n",
            "=================================================================\n",
            "conv2d_25 (Conv2D)           (None, 26, 26, 8)         80        \n",
            "_________________________________________________________________\n",
            "conv2d_26 (Conv2D)           (None, 24, 24, 16)        1168      \n",
            "_________________________________________________________________\n",
            "batch_normalization_13 (Batc (None, 24, 24, 16)        64        \n",
            "_________________________________________________________________\n",
            "dropout_13 (Dropout)         (None, 24, 24, 16)        0         \n",
            "_________________________________________________________________\n",
            "max_pooling2d_9 (MaxPooling2 (None, 12, 12, 16)        0         \n",
            "_________________________________________________________________\n",
            "conv2d_27 (Conv2D)           (None, 10, 10, 16)        2320      \n",
            "_________________________________________________________________\n",
            "batch_normalization_14 (Batc (None, 10, 10, 16)        64        \n",
            "_________________________________________________________________\n",
            "dropout_14 (Dropout)         (None, 10, 10, 16)        0         \n",
            "_________________________________________________________________\n",
            "conv2d_28 (Conv2D)           (None, 8, 8, 16)          2320      \n",
            "_________________________________________________________________\n",
            "batch_normalization_15 (Batc (None, 8, 8, 16)          64        \n",
            "_________________________________________________________________\n",
            "dropout_15 (Dropout)         (None, 8, 8, 16)          0         \n",
            "_________________________________________________________________\n",
            "max_pooling2d_10 (MaxPooling (None, 4, 4, 16)          0         \n",
            "_________________________________________________________________\n",
            "conv2d_29 (Conv2D)           (None, 2, 2, 16)          2320      \n",
            "_________________________________________________________________\n",
            "conv2d_30 (Conv2D)           (None, 1, 1, 10)          650       \n",
            "_________________________________________________________________\n",
            "flatten_5 (Flatten)          (None, 10)                0         \n",
            "_________________________________________________________________\n",
            "activation_5 (Activation)    (None, 10)                0         \n",
            "=================================================================\n",
            "Total params: 9,050\n",
            "Trainable params: 8,954\n",
            "Non-trainable params: 96\n",
            "_________________________________________________________________\n"
          ],
          "name": "stdout"
        }
      ]
    },
    {
      "cell_type": "code",
      "metadata": {
        "id": "Zp6SuGrL9M3h",
        "colab_type": "code",
        "colab": {}
      },
      "source": [
        "from keras.optimizers import Adam\n",
        "from keras.callbacks import LearningRateScheduler\n",
        "def scheduler(epoch):\n",
        "  if (epoch <= 3 ):\n",
        "   return 0.003\n",
        "  elif(epoch <=6):\n",
        "   return 0.002\n",
        "  elif(epoch <=10):\n",
        "   return 0.001\n",
        "  elif(epoch <=20):\n",
        "   return 0.0005 \n",
        "  elif(epoch <=30):\n",
        "   return 0.000025\n",
        "  elif(epoch <=35):\n",
        "   return 0.0000125\n",
        "  elif(epoch <=40):\n",
        "   return 0.00000625\n",
        "  else: \n",
        "   return round(0.001 * 1/(1 + 0.319 * epoch), 10)\n",
        "#model.compile(loss='categorical_crossentropy', optimizer=Adam(lr=0.003), metrics=['accuracy'])\n",
        "model.compile(loss='categorical_crossentropy',\n",
        "             optimizer=Adam(),\n",
        "             metrics=['accuracy'])"
      ],
      "execution_count": 0,
      "outputs": []
    },
    {
      "cell_type": "code",
      "metadata": {
        "id": "6W-2i3jpIVZ1",
        "colab_type": "code",
        "colab": {}
      },
      "source": [
        "#es = EarlyStopping(monitor='val_acc', mode='max', verbose=1,patience=15)\n",
        "lr1=LearningRateScheduler(scheduler, verbose=1)\n"
      ],
      "execution_count": 0,
      "outputs": []
    },
    {
      "cell_type": "code",
      "metadata": {
        "id": "4xWoKhPY9Of5",
        "colab_type": "code",
        "outputId": "ba2584bc-a6d4-4bf6-cc7e-3d09d9ef04b3",
        "colab": {
          "base_uri": "https://localhost:8080/",
          "height": 2100
        }
      },
      "source": [
        "\n",
        "model.fit(X_train, Y_train, batch_size=256, nb_epoch=30, verbose=1,validation_split=0.1, callbacks=[lr1])\n",
        "\n",
        "#model.fit(X_train, Y_train,batch_size=128,nb_epoch=50,verbose=1,validation_split=0.1)"
      ],
      "execution_count": 0,
      "outputs": [
        {
          "output_type": "stream",
          "text": [
            "/usr/local/lib/python3.6/dist-packages/ipykernel_launcher.py:2: UserWarning: The `nb_epoch` argument in `fit` has been renamed `epochs`.\n",
            "  \n"
          ],
          "name": "stderr"
        },
        {
          "output_type": "stream",
          "text": [
            "Train on 54000 samples, validate on 6000 samples\n",
            "Epoch 1/30\n",
            "\n",
            "Epoch 00001: LearningRateScheduler setting learning rate to 0.003.\n",
            "54000/54000 [==============================] - 4s 82us/step - loss: 0.3111 - acc: 0.9047 - val_loss: 0.1006 - val_acc: 0.9705\n",
            "Epoch 2/30\n",
            "\n",
            "Epoch 00002: LearningRateScheduler setting learning rate to 0.003.\n",
            "54000/54000 [==============================] - 2s 44us/step - loss: 0.0819 - acc: 0.9746 - val_loss: 0.0700 - val_acc: 0.9785\n",
            "Epoch 3/30\n",
            "\n",
            "Epoch 00003: LearningRateScheduler setting learning rate to 0.003.\n",
            "54000/54000 [==============================] - 2s 44us/step - loss: 0.0595 - acc: 0.9817 - val_loss: 0.0542 - val_acc: 0.9825\n",
            "Epoch 4/30\n",
            "\n",
            "Epoch 00004: LearningRateScheduler setting learning rate to 0.003.\n",
            "54000/54000 [==============================] - 2s 44us/step - loss: 0.0493 - acc: 0.9846 - val_loss: 0.0509 - val_acc: 0.9850\n",
            "Epoch 5/30\n",
            "\n",
            "Epoch 00005: LearningRateScheduler setting learning rate to 0.002.\n",
            "54000/54000 [==============================] - 2s 44us/step - loss: 0.0382 - acc: 0.9881 - val_loss: 0.0366 - val_acc: 0.9898\n",
            "Epoch 6/30\n",
            "\n",
            "Epoch 00006: LearningRateScheduler setting learning rate to 0.002.\n",
            "54000/54000 [==============================] - 2s 45us/step - loss: 0.0350 - acc: 0.9890 - val_loss: 0.0365 - val_acc: 0.9897\n",
            "Epoch 7/30\n",
            "\n",
            "Epoch 00007: LearningRateScheduler setting learning rate to 0.002.\n",
            "54000/54000 [==============================] - 2s 44us/step - loss: 0.0350 - acc: 0.9890 - val_loss: 0.0366 - val_acc: 0.9907\n",
            "Epoch 8/30\n",
            "\n",
            "Epoch 00008: LearningRateScheduler setting learning rate to 0.001.\n",
            "54000/54000 [==============================] - 2s 44us/step - loss: 0.0253 - acc: 0.9921 - val_loss: 0.0337 - val_acc: 0.9897\n",
            "Epoch 9/30\n",
            "\n",
            "Epoch 00009: LearningRateScheduler setting learning rate to 0.001.\n",
            "54000/54000 [==============================] - 2s 44us/step - loss: 0.0238 - acc: 0.9925 - val_loss: 0.0330 - val_acc: 0.9908\n",
            "Epoch 10/30\n",
            "\n",
            "Epoch 00010: LearningRateScheduler setting learning rate to 0.001.\n",
            "54000/54000 [==============================] - 2s 45us/step - loss: 0.0237 - acc: 0.9923 - val_loss: 0.0309 - val_acc: 0.9902\n",
            "Epoch 11/30\n",
            "\n",
            "Epoch 00011: LearningRateScheduler setting learning rate to 0.001.\n",
            "54000/54000 [==============================] - 2s 44us/step - loss: 0.0220 - acc: 0.9928 - val_loss: 0.0289 - val_acc: 0.9920\n",
            "Epoch 12/30\n",
            "\n",
            "Epoch 00012: LearningRateScheduler setting learning rate to 0.0005.\n",
            "54000/54000 [==============================] - 2s 44us/step - loss: 0.0187 - acc: 0.9942 - val_loss: 0.0290 - val_acc: 0.9927\n",
            "Epoch 13/30\n",
            "\n",
            "Epoch 00013: LearningRateScheduler setting learning rate to 0.0005.\n",
            "54000/54000 [==============================] - 2s 44us/step - loss: 0.0187 - acc: 0.9940 - val_loss: 0.0282 - val_acc: 0.9912\n",
            "Epoch 14/30\n",
            "\n",
            "Epoch 00014: LearningRateScheduler setting learning rate to 0.0005.\n",
            "54000/54000 [==============================] - 2s 44us/step - loss: 0.0182 - acc: 0.9942 - val_loss: 0.0321 - val_acc: 0.9910\n",
            "Epoch 15/30\n",
            "\n",
            "Epoch 00015: LearningRateScheduler setting learning rate to 0.0005.\n",
            "54000/54000 [==============================] - 2s 44us/step - loss: 0.0170 - acc: 0.9942 - val_loss: 0.0279 - val_acc: 0.9918\n",
            "Epoch 16/30\n",
            "\n",
            "Epoch 00016: LearningRateScheduler setting learning rate to 0.0005.\n",
            "54000/54000 [==============================] - 2s 44us/step - loss: 0.0170 - acc: 0.9944 - val_loss: 0.0268 - val_acc: 0.9912\n",
            "Epoch 17/30\n",
            "\n",
            "Epoch 00017: LearningRateScheduler setting learning rate to 0.0005.\n",
            "54000/54000 [==============================] - 2s 45us/step - loss: 0.0158 - acc: 0.9946 - val_loss: 0.0285 - val_acc: 0.9912\n",
            "Epoch 18/30\n",
            "\n",
            "Epoch 00018: LearningRateScheduler setting learning rate to 0.0005.\n",
            "54000/54000 [==============================] - 2s 44us/step - loss: 0.0175 - acc: 0.9942 - val_loss: 0.0280 - val_acc: 0.9925\n",
            "Epoch 19/30\n",
            "\n",
            "Epoch 00019: LearningRateScheduler setting learning rate to 0.0005.\n",
            "54000/54000 [==============================] - 2s 45us/step - loss: 0.0162 - acc: 0.9942 - val_loss: 0.0273 - val_acc: 0.9922\n",
            "Epoch 20/30\n",
            "\n",
            "Epoch 00020: LearningRateScheduler setting learning rate to 0.0005.\n",
            "54000/54000 [==============================] - 2s 45us/step - loss: 0.0151 - acc: 0.9947 - val_loss: 0.0323 - val_acc: 0.9918\n",
            "Epoch 21/30\n",
            "\n",
            "Epoch 00021: LearningRateScheduler setting learning rate to 0.0005.\n",
            "54000/54000 [==============================] - 2s 45us/step - loss: 0.0141 - acc: 0.9954 - val_loss: 0.0305 - val_acc: 0.9920\n",
            "Epoch 22/30\n",
            "\n",
            "Epoch 00022: LearningRateScheduler setting learning rate to 2.5e-05.\n",
            "54000/54000 [==============================] - 2s 44us/step - loss: 0.0127 - acc: 0.9957 - val_loss: 0.0277 - val_acc: 0.9923\n",
            "Epoch 23/30\n",
            "\n",
            "Epoch 00023: LearningRateScheduler setting learning rate to 2.5e-05.\n",
            "54000/54000 [==============================] - 2s 45us/step - loss: 0.0126 - acc: 0.9960 - val_loss: 0.0272 - val_acc: 0.9927\n",
            "Epoch 24/30\n",
            "\n",
            "Epoch 00024: LearningRateScheduler setting learning rate to 2.5e-05.\n",
            "54000/54000 [==============================] - 2s 44us/step - loss: 0.0125 - acc: 0.9959 - val_loss: 0.0271 - val_acc: 0.9928\n",
            "Epoch 25/30\n",
            "\n",
            "Epoch 00025: LearningRateScheduler setting learning rate to 2.5e-05.\n",
            "54000/54000 [==============================] - 2s 44us/step - loss: 0.0124 - acc: 0.9960 - val_loss: 0.0270 - val_acc: 0.9925\n",
            "Epoch 26/30\n",
            "\n",
            "Epoch 00026: LearningRateScheduler setting learning rate to 2.5e-05.\n",
            "54000/54000 [==============================] - 2s 44us/step - loss: 0.0113 - acc: 0.9966 - val_loss: 0.0271 - val_acc: 0.9928\n",
            "Epoch 27/30\n",
            "\n",
            "Epoch 00027: LearningRateScheduler setting learning rate to 2.5e-05.\n",
            "54000/54000 [==============================] - 2s 44us/step - loss: 0.0121 - acc: 0.9959 - val_loss: 0.0272 - val_acc: 0.9923\n",
            "Epoch 28/30\n",
            "\n",
            "Epoch 00028: LearningRateScheduler setting learning rate to 2.5e-05.\n",
            "54000/54000 [==============================] - 2s 44us/step - loss: 0.0124 - acc: 0.9958 - val_loss: 0.0270 - val_acc: 0.9925\n",
            "Epoch 29/30\n",
            "\n",
            "Epoch 00029: LearningRateScheduler setting learning rate to 2.5e-05.\n",
            "54000/54000 [==============================] - 2s 44us/step - loss: 0.0123 - acc: 0.9959 - val_loss: 0.0272 - val_acc: 0.9927\n",
            "Epoch 30/30\n",
            "\n",
            "Epoch 00030: LearningRateScheduler setting learning rate to 2.5e-05.\n",
            "54000/54000 [==============================] - 2s 44us/step - loss: 0.0118 - acc: 0.9962 - val_loss: 0.0272 - val_acc: 0.9922\n"
          ],
          "name": "stdout"
        },
        {
          "output_type": "execute_result",
          "data": {
            "text/plain": [
              "<keras.callbacks.History at 0x7f1e184a21d0>"
            ]
          },
          "metadata": {
            "tags": []
          },
          "execution_count": 70
        }
      ]
    },
    {
      "cell_type": "code",
      "metadata": {
        "id": "AtsH-lLk-eLb",
        "colab_type": "code",
        "outputId": "1fffc85b-70c4-458d-e92b-091094a57ce5",
        "colab": {
          "base_uri": "https://localhost:8080/",
          "height": 34
        }
      },
      "source": [
        "score = model.evaluate(X_test, Y_test, verbose=1)"
      ],
      "execution_count": 0,
      "outputs": [
        {
          "output_type": "stream",
          "text": [
            "10000/10000 [==============================] - 1s 60us/step\n"
          ],
          "name": "stdout"
        }
      ]
    },
    {
      "cell_type": "code",
      "metadata": {
        "id": "mkX8JMv79q9r",
        "colab_type": "code",
        "outputId": "145fbd89-3fab-4d6f-ff37-4fbbb9531489",
        "colab": {
          "base_uri": "https://localhost:8080/",
          "height": 34
        }
      },
      "source": [
        "print(score)"
      ],
      "execution_count": 0,
      "outputs": [
        {
          "output_type": "stream",
          "text": [
            "[0.021173019290994854, 0.9929]\n"
          ],
          "name": "stdout"
        }
      ]
    },
    {
      "cell_type": "code",
      "metadata": {
        "id": "OCWoJkwE9suh",
        "colab_type": "code",
        "colab": {}
      },
      "source": [
        "y_pred = model.predict(X_test)"
      ],
      "execution_count": 0,
      "outputs": []
    },
    {
      "cell_type": "code",
      "metadata": {
        "id": "Ym7iCFBm9uBs",
        "colab_type": "code",
        "outputId": "7ebb3bf1-57d5-4c9e-80da-c532713135fb",
        "colab": {
          "base_uri": "https://localhost:8080/",
          "height": 336
        }
      },
      "source": [
        "print(y_pred[:9])\n",
        "print(y_test[:9])"
      ],
      "execution_count": 0,
      "outputs": [
        {
          "output_type": "stream",
          "text": [
            "[[3.2330921e-10 1.6829890e-07 2.9373732e-06 4.0671084e-06 2.3929209e-10\n",
            "  3.4004379e-09 5.0569916e-13 9.9998987e-01 5.2399280e-09 3.0046776e-06]\n",
            " [1.2467420e-04 1.1939030e-03 9.9867475e-01 1.8673611e-06 1.4696450e-07\n",
            "  1.0329929e-08 2.6735604e-06 1.1442475e-07 1.7693718e-06 8.6729113e-09]\n",
            " [8.2577235e-06 9.9989450e-01 3.3504261e-06 1.3496718e-07 3.1784744e-05\n",
            "  9.1442814e-07 3.4361587e-06 4.1803134e-05 2.0487112e-06 1.3809961e-05]\n",
            " [9.9942565e-01 1.0384804e-09 1.6973331e-07 3.2969288e-10 3.0516063e-09\n",
            "  1.8280265e-07 5.7191000e-04 3.6937628e-08 2.9569259e-07 1.9036743e-06]\n",
            " [6.9256645e-12 2.9452565e-09 4.4330722e-10 3.6236581e-14 9.9993932e-01\n",
            "  1.8528783e-10 2.2520183e-08 1.0472373e-09 2.0098855e-07 6.0503909e-05]\n",
            " [4.3436157e-06 9.9990487e-01 7.3396239e-07 7.9438545e-09 1.0106908e-05\n",
            "  6.1682428e-08 1.4064507e-06 7.4266791e-05 6.4691568e-07 3.6023166e-06]\n",
            " [3.0855225e-14 1.2200229e-06 5.9173577e-10 3.9635244e-13 9.9995053e-01\n",
            "  1.8632315e-08 2.9018388e-10 1.9804284e-08 6.6644918e-07 4.7567559e-05]\n",
            " [1.9540705e-10 2.5519531e-11 3.2181035e-08 7.8051016e-10 4.7239431e-05\n",
            "  3.1361658e-08 7.0036296e-14 9.6599742e-09 5.7837070e-07 9.9995208e-01]\n",
            " [2.6510027e-06 4.3838700e-11 7.8586804e-11 3.3166794e-09 1.4082226e-12\n",
            "  9.9928856e-01 6.8492990e-04 1.4579081e-11 2.2676799e-05 1.1860949e-06]]\n",
            "[7 2 1 0 4 1 4 9 5]\n"
          ],
          "name": "stdout"
        }
      ]
    },
    {
      "cell_type": "code",
      "metadata": {
        "id": "CT--y98_dr2T",
        "colab_type": "code",
        "colab": {}
      },
      "source": [
        "layer_dict = dict([(layer.name, layer) for layer in model.layers])"
      ],
      "execution_count": 0,
      "outputs": []
    },
    {
      "cell_type": "code",
      "metadata": {
        "id": "2GY4Upv4dsUR",
        "colab_type": "code",
        "outputId": "8f2ab17b-5541-489c-fc13-86c91b0a63f2",
        "colab": {
          "base_uri": "https://localhost:8080/",
          "height": 741
        }
      },
      "source": [
        "import numpy as np\n",
        "from matplotlib import pyplot as plt\n",
        "from keras import backend as K\n",
        "%matplotlib inline\n",
        "# util function to convert a tensor into a valid image\n",
        "def deprocess_image(x):\n",
        "    # normalize tensor: center on 0., ensure std is 0.1\n",
        "    x -= x.mean()\n",
        "    x /= (x.std() + 1e-5)\n",
        "    x *= 0.1\n",
        "\n",
        "    # clip to [0, 1]\n",
        "    x += 0.5\n",
        "    x = np.clip(x, 0, 1)\n",
        "\n",
        "    # convert to RGB array\n",
        "    x *= 255\n",
        "    #x = x.transpose((1, 2, 0))\n",
        "    x = np.clip(x, 0, 255).astype('uint8')\n",
        "    return x\n",
        "\n",
        "def vis_img_in_filter(img = np.array(X_train[2]).reshape((1, 28, 28, 1)).astype(np.float64), \n",
        "                      layer_name = 'conv2d_299'):\n",
        "    layer_output = layer_dict[layer_name].output\n",
        "    img_ascs = list()\n",
        "    for filter_index in range(layer_output.shape[3]):\n",
        "        # build a loss function that maximizes the activation\n",
        "        # of the nth filter of the layer considered\n",
        "        loss = K.mean(layer_output[:, :, :, filter_index])\n",
        "\n",
        "        # compute the gradient of the input picture wrt this loss\n",
        "        grads = K.gradients(loss, model.input)[0]\n",
        "\n",
        "        # normalization trick: we normalize the gradient\n",
        "        grads /= (K.sqrt(K.mean(K.square(grads))) + 1e-5)\n",
        "\n",
        "        # this function returns the loss and grads given the input picture\n",
        "        iterate = K.function([model.input], [loss, grads])\n",
        "\n",
        "        # step size for gradient ascent\n",
        "        step = 5.\n",
        "\n",
        "        img_asc = np.array(img)\n",
        "        # run gradient ascent for 20 steps\n",
        "        for i in range(20):\n",
        "            loss_value, grads_value = iterate([img_asc])\n",
        "            img_asc += grads_value * step\n",
        "\n",
        "        img_asc = img_asc[0]\n",
        "        img_ascs.append(deprocess_image(img_asc).reshape((28, 28)))\n",
        "        \n",
        "    if layer_output.shape[3] >= 35:\n",
        "        plot_x, plot_y = 6, 6\n",
        "    elif layer_output.shape[3] >= 23:\n",
        "        plot_x, plot_y = 4, 6\n",
        "    elif layer_output.shape[3] >= 11:\n",
        "        plot_x, plot_y = 2, 6\n",
        "    else:\n",
        "        plot_x, plot_y = 1, 2\n",
        "    fig, ax = plt.subplots(plot_x, plot_y, figsize = (12, 12))\n",
        "    ax[0, 0].imshow(img.reshape((28, 28)), cmap = 'gray')\n",
        "    ax[0, 0].set_title('Input image')\n",
        "    fig.suptitle('Input image and %s filters' % (layer_name,))\n",
        "    fig.tight_layout(pad = 0.3, rect = [0, 0, 0.9, 0.9])\n",
        "    for (x, y) in [(i, j) for i in range(plot_x) for j in range(plot_y)]:\n",
        "        if x == 0 and y == 0:\n",
        "            continue\n",
        "        ax[x, y].imshow(img_ascs[x * plot_y + y - 1], cmap = 'gray')\n",
        "        ax[x, y].set_title('filter %d' % (x * plot_y + y - 1))\n",
        "\n",
        "vis_img_in_filter()"
      ],
      "execution_count": 0,
      "outputs": [
        {
          "output_type": "display_data",
          "data": {
            "image/png": "[encoded data removed]",
            "text/plain": [
              "<Figure size 864x864 with 12 Axes>"
            ]
          },
          "metadata": {
            "tags": []
          }
        }
      ]
    },
    {
      "cell_type": "code",
      "metadata": {
        "id": "9tvptcn8dxvp",
        "colab_type": "code",
        "colab": {}
      },
      "source": [
        ""
      ],
      "execution_count": 0,
      "outputs": []
    }
  ]
}