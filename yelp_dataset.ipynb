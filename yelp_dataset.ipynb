{
  "nbformat": 4,
  "nbformat_minor": 0,
  "metadata": {
    "colab": {
      "name": "yelp_dataset.ipynb",
      "version": "0.3.2",
      "provenance": [],
      "include_colab_link": true
    },
    "kernelspec": {
      "name": "python3",
      "display_name": "Python 3"
    },
    "accelerator": "GPU"
  },
  "cells": [
    {
      "cell_type": "markdown",
      "metadata": {
        "id": "view-in-github",
        "colab_type": "text"
      },
      "source": [
        "<a href=\"https://colab.research.google.com/github/pasumarthi/Backprop/blob/master/yelp_dataset.ipynb\" target=\"_parent\"><img src=\"https://colab.research.google.com/assets/colab-badge.svg\" alt=\"Open In Colab\"/></a>"
      ]
    },
    {
      "metadata": {
        "id": "_xlzgh6sENdx",
        "colab_type": "code",
        "colab": {
          "base_uri": "https://localhost:8080/",
          "height": 154
        },
        "outputId": "63f0418d-7481-4c9d-ca50-e6396f7f45cf"
      },
      "cell_type": "code",
      "source": [
        "# yelp academin \n",
        "!wget --header=\"Host: storage.googleapis.com\" --header=\"User-Agent: Mozilla/5.0 (Windows NT 10.0; Win64; x64) AppleWebKit/537.36 (KHTML, like Gecko) Chrome/70.0.3538.77 Safari/537.36\" --header=\"Accept: text/html,application/xhtml+xml,application/xml;q=0.9,image/webp,image/apng,*/*;q=0.8\" --header=\"Accept-Language: en-US,en;q=0.9\" \"https://storage.googleapis.com/kaggle-datasets/10100/63354/yelp_academic_dataset_review.json.zip?GoogleAccessId=web-data@kaggle-161607.iam.gserviceaccount.com&Expires=1541683727&Signature=hHkYp9XivZmQ2JDjSdoJKgmYhEol2E2aE5g0ig3KT3aGk%2BZBQ5PEf8cgqvfRkd2MyLIg014Fp44EQ8SF6FINp0UnrEgbsSZT8VsDfAkM%2B3yZgW6sq28Ck0lAvYdECUjjoB2gzuU19bD6MHZgBuoBnCkbWwV%2FwmP%2Buy7CXp38LjPspTOBCTnJXHk7JFpZH4JUneUwrfr2bjTS2LGMMexiE9JnSx%2BlQEF%2Bxx9ZnsX3nEeSZ024iTIp7q2I1LAGYBrL4ck5SBdc4vThiAKUgHPKgry%2F7Lif2P7TOh7mSDBt1L7YRnD8M1ml7UWvIe86OGyjifbIN%2BsoIQ37S0mB8DIXvg%3D%3D\" -O \"yelp_academic_dataset_review.json.zip\" -c"
      ],
      "execution_count": 2,
      "outputs": [
        {
          "output_type": "stream",
          "text": [
            "--2018-11-07 00:38:31--  https://storage.googleapis.com/kaggle-datasets/10100/63354/yelp_academic_dataset_review.json.zip?GoogleAccessId=web-data@kaggle-161607.iam.gserviceaccount.com&Expires=1541683727&Signature=hHkYp9XivZmQ2JDjSdoJKgmYhEol2E2aE5g0ig3KT3aGk%2BZBQ5PEf8cgqvfRkd2MyLIg014Fp44EQ8SF6FINp0UnrEgbsSZT8VsDfAkM%2B3yZgW6sq28Ck0lAvYdECUjjoB2gzuU19bD6MHZgBuoBnCkbWwV%2FwmP%2Buy7CXp38LjPspTOBCTnJXHk7JFpZH4JUneUwrfr2bjTS2LGMMexiE9JnSx%2BlQEF%2Bxx9ZnsX3nEeSZ024iTIp7q2I1LAGYBrL4ck5SBdc4vThiAKUgHPKgry%2F7Lif2P7TOh7mSDBt1L7YRnD8M1ml7UWvIe86OGyjifbIN%2BsoIQ37S0mB8DIXvg%3D%3D\n",
            "Resolving storage.googleapis.com (storage.googleapis.com)... 74.125.195.128, 2607:f8b0:400e:c09::80\n",
            "Connecting to storage.googleapis.com (storage.googleapis.com)|74.125.195.128|:443... connected.\n",
            "HTTP request sent, awaiting response... 416 Requested range not satisfiable\n",
            "\n",
            "    The file is already fully retrieved; nothing to do.\n",
            "\n"
          ],
          "name": "stdout"
        }
      ]
    },
    {
      "metadata": {
        "id": "c9BHZmPREQz2",
        "colab_type": "code",
        "colab": {
          "base_uri": "https://localhost:8080/",
          "height": 84
        },
        "outputId": "9fedb49c-3bc3-4192-e15b-f00c84f368e3"
      },
      "cell_type": "code",
      "source": [
        "!unzip yelp_academic_dataset_review.json.zip\n",
        "!ls"
      ],
      "execution_count": 3,
      "outputs": [
        {
          "output_type": "stream",
          "text": [
            "Archive:  yelp_academic_dataset_review.json.zip\n",
            "  inflating: yelp_academic_dataset_review.json  \n",
            "sample_data\t\t\t   yelp_academic_dataset_review.json.zip\n",
            "yelp_academic_dataset_review.json\n"
          ],
          "name": "stdout"
        }
      ]
    },
    {
      "metadata": {
        "id": "r7-XtZQyEdrh",
        "colab_type": "code",
        "colab": {
          "base_uri": "https://localhost:8080/",
          "height": 2594509
        },
        "outputId": "f434929d-2fca-4b74-fb39-16481384e548"
      },
      "cell_type": "code",
      "source": [
        "!cat yelp_academic_dataset_review.json"
      ],
      "execution_count": 0,
      "outputs": []
    },
    {
      "metadata": {
        "id": "RFgWdjHuEsVm",
        "colab_type": "code",
        "colab": {}
      },
      "cell_type": "code",
      "source": [
        ""
      ],
      "execution_count": 0,
      "outputs": []
    }
  ]
}